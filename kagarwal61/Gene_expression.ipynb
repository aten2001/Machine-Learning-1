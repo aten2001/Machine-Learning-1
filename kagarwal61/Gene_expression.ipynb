{
 "cells": [
  {
   "cell_type": "markdown",
   "metadata": {},
   "source": [
    "# Gene Expression Prediction Using ML"
   ]
  },
  {
   "cell_type": "code",
   "execution_count": 2,
   "metadata": {
    "collapsed": true
   },
   "outputs": [],
   "source": [
    "##Loading required libraries\n",
    "\n",
    "import numpy as np # linear algebra\n",
    "import pandas as pd# data processing, CSV file I/O (e.g. pd.read_csv)\n",
    "from sklearn import preprocessing\n",
    "import matplotlib.pyplot as plt\n",
    "from sklearn.metrics import accuracy_score\n",
    "\n",
    "from sklearn.tree import DecisionTreeClassifier  \n",
    "from sklearn.neighbors import KNeighborsClassifier\n",
    "from sklearn.svm import SVC\n",
    "from sklearn.neural_network import MLPClassifier\n",
    "from sklearn.ensemble import GradientBoostingClassifier\n",
    "\n",
    "from sklearn.model_selection import cross_val_score, GridSearchCV, cross_validate, train_test_split\n",
    "from sklearn.metrics import *\n",
    "\n",
    "from sklearn.model_selection import StratifiedKFold\n",
    "from sklearn.model_selection import ShuffleSplit\n",
    "from sklearn.model_selection import learning_curve\n",
    "\n",
    "import seaborn as sns\n",
    "%matplotlib inline"
   ]
  },
  {
   "cell_type": "code",
   "execution_count": 5,
   "metadata": {},
   "outputs": [],
   "source": [
    "#Reading the raw data\n",
    "\n",
    "data_raw = pd.read_csv('./Gene_Expression_Dataset.csv')"
   ]
  },
  {
   "cell_type": "code",
   "execution_count": 6,
   "metadata": {},
   "outputs": [
    {
     "name": "stdout",
     "output_type": "stream",
     "text": [
      "(15485, 517)\n"
     ]
    },
    {
     "data": {
      "text/html": [
       "<div>\n",
       "<style>\n",
       "    .dataframe thead tr:only-child th {\n",
       "        text-align: right;\n",
       "    }\n",
       "\n",
       "    .dataframe thead th {\n",
       "        text-align: left;\n",
       "    }\n",
       "\n",
       "    .dataframe tbody tr th {\n",
       "        vertical-align: top;\n",
       "    }\n",
       "</style>\n",
       "<table border=\"1\" class=\"dataframe\">\n",
       "  <thead>\n",
       "    <tr style=\"text-align: right;\">\n",
       "      <th></th>\n",
       "      <th>GeneId</th>\n",
       "      <th>Expression</th>\n",
       "      <th>H3K4me3_1</th>\n",
       "      <th>H3K4me1_1</th>\n",
       "      <th>H3K36me3_1</th>\n",
       "      <th>H3K9me3_1</th>\n",
       "      <th>H3K27me3_1</th>\n",
       "      <th>H3K4me3_2</th>\n",
       "      <th>H3K4me1_2</th>\n",
       "      <th>H3K36me3_2</th>\n",
       "      <th>...</th>\n",
       "      <th>H3K4me3_mean</th>\n",
       "      <th>H3K4me1_mean</th>\n",
       "      <th>H3K36me3_mean</th>\n",
       "      <th>H3K9me3_mean</th>\n",
       "      <th>H3K27me3_mean</th>\n",
       "      <th>H3K4me3_median</th>\n",
       "      <th>H3K4me1_median</th>\n",
       "      <th>H3K36me3_median</th>\n",
       "      <th>H3K9me3_median</th>\n",
       "      <th>H3K27me3_median</th>\n",
       "    </tr>\n",
       "  </thead>\n",
       "  <tbody>\n",
       "    <tr>\n",
       "      <th>0</th>\n",
       "      <td>1</td>\n",
       "      <td>0</td>\n",
       "      <td>2</td>\n",
       "      <td>1</td>\n",
       "      <td>4</td>\n",
       "      <td>1</td>\n",
       "      <td>0</td>\n",
       "      <td>0</td>\n",
       "      <td>2</td>\n",
       "      <td>1</td>\n",
       "      <td>...</td>\n",
       "      <td>1.59</td>\n",
       "      <td>0.70</td>\n",
       "      <td>1.18</td>\n",
       "      <td>1.78</td>\n",
       "      <td>0.85</td>\n",
       "      <td>1.0</td>\n",
       "      <td>0.0</td>\n",
       "      <td>0.0</td>\n",
       "      <td>1.0</td>\n",
       "      <td>1.0</td>\n",
       "    </tr>\n",
       "    <tr>\n",
       "      <th>1</th>\n",
       "      <td>2</td>\n",
       "      <td>0</td>\n",
       "      <td>1</td>\n",
       "      <td>0</td>\n",
       "      <td>1</td>\n",
       "      <td>0</td>\n",
       "      <td>0</td>\n",
       "      <td>0</td>\n",
       "      <td>0</td>\n",
       "      <td>0</td>\n",
       "      <td>...</td>\n",
       "      <td>1.29</td>\n",
       "      <td>0.50</td>\n",
       "      <td>0.35</td>\n",
       "      <td>0.51</td>\n",
       "      <td>0.74</td>\n",
       "      <td>1.0</td>\n",
       "      <td>0.0</td>\n",
       "      <td>0.0</td>\n",
       "      <td>0.0</td>\n",
       "      <td>1.0</td>\n",
       "    </tr>\n",
       "    <tr>\n",
       "      <th>2</th>\n",
       "      <td>3</td>\n",
       "      <td>1</td>\n",
       "      <td>1</td>\n",
       "      <td>6</td>\n",
       "      <td>3</td>\n",
       "      <td>1</td>\n",
       "      <td>1</td>\n",
       "      <td>1</td>\n",
       "      <td>6</td>\n",
       "      <td>1</td>\n",
       "      <td>...</td>\n",
       "      <td>1.01</td>\n",
       "      <td>2.84</td>\n",
       "      <td>7.46</td>\n",
       "      <td>12.58</td>\n",
       "      <td>1.36</td>\n",
       "      <td>1.0</td>\n",
       "      <td>2.0</td>\n",
       "      <td>6.0</td>\n",
       "      <td>3.0</td>\n",
       "      <td>1.0</td>\n",
       "    </tr>\n",
       "    <tr>\n",
       "      <th>3</th>\n",
       "      <td>4</td>\n",
       "      <td>1</td>\n",
       "      <td>0</td>\n",
       "      <td>4</td>\n",
       "      <td>3</td>\n",
       "      <td>2</td>\n",
       "      <td>1</td>\n",
       "      <td>0</td>\n",
       "      <td>2</td>\n",
       "      <td>8</td>\n",
       "      <td>...</td>\n",
       "      <td>1.65</td>\n",
       "      <td>1.77</td>\n",
       "      <td>5.99</td>\n",
       "      <td>10.35</td>\n",
       "      <td>1.55</td>\n",
       "      <td>1.0</td>\n",
       "      <td>2.0</td>\n",
       "      <td>3.0</td>\n",
       "      <td>3.0</td>\n",
       "      <td>1.0</td>\n",
       "    </tr>\n",
       "    <tr>\n",
       "      <th>4</th>\n",
       "      <td>5</td>\n",
       "      <td>1</td>\n",
       "      <td>0</td>\n",
       "      <td>1</td>\n",
       "      <td>2</td>\n",
       "      <td>0</td>\n",
       "      <td>0</td>\n",
       "      <td>0</td>\n",
       "      <td>0</td>\n",
       "      <td>4</td>\n",
       "      <td>...</td>\n",
       "      <td>0.70</td>\n",
       "      <td>1.17</td>\n",
       "      <td>9.89</td>\n",
       "      <td>2.41</td>\n",
       "      <td>0.97</td>\n",
       "      <td>0.0</td>\n",
       "      <td>1.0</td>\n",
       "      <td>6.5</td>\n",
       "      <td>1.5</td>\n",
       "      <td>1.0</td>\n",
       "    </tr>\n",
       "  </tbody>\n",
       "</table>\n",
       "<p>5 rows × 517 columns</p>\n",
       "</div>"
      ],
      "text/plain": [
       "   GeneId  Expression  H3K4me3_1  H3K4me1_1  H3K36me3_1  H3K9me3_1  \\\n",
       "0       1           0          2          1           4          1   \n",
       "1       2           0          1          0           1          0   \n",
       "2       3           1          1          6           3          1   \n",
       "3       4           1          0          4           3          2   \n",
       "4       5           1          0          1           2          0   \n",
       "\n",
       "   H3K27me3_1  H3K4me3_2  H3K4me1_2  H3K36me3_2       ...         \\\n",
       "0           0          0          2           1       ...          \n",
       "1           0          0          0           0       ...          \n",
       "2           1          1          6           1       ...          \n",
       "3           1          0          2           8       ...          \n",
       "4           0          0          0           4       ...          \n",
       "\n",
       "   H3K4me3_mean  H3K4me1_mean  H3K36me3_mean  H3K9me3_mean  H3K27me3_mean  \\\n",
       "0          1.59          0.70           1.18          1.78           0.85   \n",
       "1          1.29          0.50           0.35          0.51           0.74   \n",
       "2          1.01          2.84           7.46         12.58           1.36   \n",
       "3          1.65          1.77           5.99         10.35           1.55   \n",
       "4          0.70          1.17           9.89          2.41           0.97   \n",
       "\n",
       "   H3K4me3_median  H3K4me1_median  H3K36me3_median  H3K9me3_median  \\\n",
       "0             1.0             0.0              0.0             1.0   \n",
       "1             1.0             0.0              0.0             0.0   \n",
       "2             1.0             2.0              6.0             3.0   \n",
       "3             1.0             2.0              3.0             3.0   \n",
       "4             0.0             1.0              6.5             1.5   \n",
       "\n",
       "   H3K27me3_median  \n",
       "0              1.0  \n",
       "1              1.0  \n",
       "2              1.0  \n",
       "3              1.0  \n",
       "4              1.0  \n",
       "\n",
       "[5 rows x 517 columns]"
      ]
     },
     "execution_count": 6,
     "metadata": {},
     "output_type": "execute_result"
    }
   ],
   "source": [
    "##Data dimensions and structure\n",
    "\n",
    "print(data_raw.shape)\n",
    "\n",
    "data_raw.head()\n",
    "\n"
   ]
  },
  {
   "cell_type": "markdown",
   "metadata": {},
   "source": [
    "## Expression is the target variable\n",
    "\n",
    "## 0: Low Expression 1: High Expression"
   ]
  },
  {
   "cell_type": "code",
   "execution_count": 9,
   "metadata": {},
   "outputs": [
    {
     "data": {
      "text/html": [
       "<div>\n",
       "<style>\n",
       "    .dataframe thead tr:only-child th {\n",
       "        text-align: right;\n",
       "    }\n",
       "\n",
       "    .dataframe thead th {\n",
       "        text-align: left;\n",
       "    }\n",
       "\n",
       "    .dataframe tbody tr th {\n",
       "        vertical-align: top;\n",
       "    }\n",
       "</style>\n",
       "<table border=\"1\" class=\"dataframe\">\n",
       "  <thead>\n",
       "    <tr style=\"text-align: right;\">\n",
       "      <th></th>\n",
       "      <th>GeneId</th>\n",
       "      <th>Prediction</th>\n",
       "      <th>H3K4me3_1</th>\n",
       "      <th>H3K4me1_1</th>\n",
       "      <th>H3K36me3_1</th>\n",
       "      <th>H3K9me3_1</th>\n",
       "      <th>H3K27me3_1</th>\n",
       "      <th>H3K4me3_2</th>\n",
       "      <th>H3K4me1_2</th>\n",
       "      <th>H3K36me3_2</th>\n",
       "      <th>...</th>\n",
       "      <th>H3K4me3_mean</th>\n",
       "      <th>H3K4me1_mean</th>\n",
       "      <th>H3K36me3_mean</th>\n",
       "      <th>H3K9me3_mean</th>\n",
       "      <th>H3K27me3_mean</th>\n",
       "      <th>H3K4me3_median</th>\n",
       "      <th>H3K4me1_median</th>\n",
       "      <th>H3K36me3_median</th>\n",
       "      <th>H3K9me3_median</th>\n",
       "      <th>H3K27me3_median</th>\n",
       "    </tr>\n",
       "  </thead>\n",
       "  <tbody>\n",
       "    <tr>\n",
       "      <th>count</th>\n",
       "      <td>15485.000000</td>\n",
       "      <td>15485.000000</td>\n",
       "      <td>15485.000000</td>\n",
       "      <td>15485.000000</td>\n",
       "      <td>15485.000000</td>\n",
       "      <td>15485.000000</td>\n",
       "      <td>15485.000000</td>\n",
       "      <td>15485.000000</td>\n",
       "      <td>15485.000000</td>\n",
       "      <td>15485.000000</td>\n",
       "      <td>...</td>\n",
       "      <td>15485.000000</td>\n",
       "      <td>15485.000000</td>\n",
       "      <td>15485.000000</td>\n",
       "      <td>15485.000000</td>\n",
       "      <td>15485.000000</td>\n",
       "      <td>15485.000000</td>\n",
       "      <td>15485.000000</td>\n",
       "      <td>15485.000000</td>\n",
       "      <td>15485.000000</td>\n",
       "      <td>15485.000000</td>\n",
       "    </tr>\n",
       "    <tr>\n",
       "      <th>mean</th>\n",
       "      <td>7743.000000</td>\n",
       "      <td>0.500936</td>\n",
       "      <td>1.475557</td>\n",
       "      <td>1.740265</td>\n",
       "      <td>2.341815</td>\n",
       "      <td>1.847530</td>\n",
       "      <td>1.137036</td>\n",
       "      <td>1.478269</td>\n",
       "      <td>1.740523</td>\n",
       "      <td>2.354472</td>\n",
       "      <td>...</td>\n",
       "      <td>1.628247</td>\n",
       "      <td>1.533522</td>\n",
       "      <td>3.368313</td>\n",
       "      <td>5.099660</td>\n",
       "      <td>1.118989</td>\n",
       "      <td>1.341233</td>\n",
       "      <td>1.218696</td>\n",
       "      <td>2.327995</td>\n",
       "      <td>1.782176</td>\n",
       "      <td>0.876493</td>\n",
       "    </tr>\n",
       "    <tr>\n",
       "      <th>std</th>\n",
       "      <td>4470.278794</td>\n",
       "      <td>0.500015</td>\n",
       "      <td>1.874760</td>\n",
       "      <td>2.142546</td>\n",
       "      <td>3.810496</td>\n",
       "      <td>5.131625</td>\n",
       "      <td>1.476615</td>\n",
       "      <td>1.938940</td>\n",
       "      <td>2.127604</td>\n",
       "      <td>3.807168</td>\n",
       "      <td>...</td>\n",
       "      <td>1.356499</td>\n",
       "      <td>0.856633</td>\n",
       "      <td>2.494893</td>\n",
       "      <td>4.807508</td>\n",
       "      <td>0.619292</td>\n",
       "      <td>1.335168</td>\n",
       "      <td>0.756447</td>\n",
       "      <td>2.091057</td>\n",
       "      <td>1.954224</td>\n",
       "      <td>0.616369</td>\n",
       "    </tr>\n",
       "    <tr>\n",
       "      <th>min</th>\n",
       "      <td>1.000000</td>\n",
       "      <td>0.000000</td>\n",
       "      <td>0.000000</td>\n",
       "      <td>0.000000</td>\n",
       "      <td>0.000000</td>\n",
       "      <td>0.000000</td>\n",
       "      <td>0.000000</td>\n",
       "      <td>0.000000</td>\n",
       "      <td>0.000000</td>\n",
       "      <td>0.000000</td>\n",
       "      <td>...</td>\n",
       "      <td>0.000000</td>\n",
       "      <td>0.000000</td>\n",
       "      <td>0.000000</td>\n",
       "      <td>0.000000</td>\n",
       "      <td>0.000000</td>\n",
       "      <td>0.000000</td>\n",
       "      <td>0.000000</td>\n",
       "      <td>0.000000</td>\n",
       "      <td>0.000000</td>\n",
       "      <td>0.000000</td>\n",
       "    </tr>\n",
       "    <tr>\n",
       "      <th>25%</th>\n",
       "      <td>3872.000000</td>\n",
       "      <td>0.000000</td>\n",
       "      <td>0.000000</td>\n",
       "      <td>0.000000</td>\n",
       "      <td>0.000000</td>\n",
       "      <td>0.000000</td>\n",
       "      <td>0.000000</td>\n",
       "      <td>0.000000</td>\n",
       "      <td>0.000000</td>\n",
       "      <td>0.000000</td>\n",
       "      <td>...</td>\n",
       "      <td>0.770000</td>\n",
       "      <td>1.010000</td>\n",
       "      <td>1.210000</td>\n",
       "      <td>1.170000</td>\n",
       "      <td>0.800000</td>\n",
       "      <td>1.000000</td>\n",
       "      <td>1.000000</td>\n",
       "      <td>1.000000</td>\n",
       "      <td>1.000000</td>\n",
       "      <td>1.000000</td>\n",
       "    </tr>\n",
       "    <tr>\n",
       "      <th>50%</th>\n",
       "      <td>7743.000000</td>\n",
       "      <td>1.000000</td>\n",
       "      <td>1.000000</td>\n",
       "      <td>1.000000</td>\n",
       "      <td>1.000000</td>\n",
       "      <td>1.000000</td>\n",
       "      <td>1.000000</td>\n",
       "      <td>1.000000</td>\n",
       "      <td>1.000000</td>\n",
       "      <td>1.000000</td>\n",
       "      <td>...</td>\n",
       "      <td>1.140000</td>\n",
       "      <td>1.340000</td>\n",
       "      <td>2.970000</td>\n",
       "      <td>3.600000</td>\n",
       "      <td>1.060000</td>\n",
       "      <td>1.000000</td>\n",
       "      <td>1.000000</td>\n",
       "      <td>2.000000</td>\n",
       "      <td>1.000000</td>\n",
       "      <td>1.000000</td>\n",
       "    </tr>\n",
       "    <tr>\n",
       "      <th>75%</th>\n",
       "      <td>11614.000000</td>\n",
       "      <td>1.000000</td>\n",
       "      <td>2.000000</td>\n",
       "      <td>2.000000</td>\n",
       "      <td>3.000000</td>\n",
       "      <td>2.000000</td>\n",
       "      <td>2.000000</td>\n",
       "      <td>2.000000</td>\n",
       "      <td>2.000000</td>\n",
       "      <td>3.000000</td>\n",
       "      <td>...</td>\n",
       "      <td>2.090000</td>\n",
       "      <td>1.880000</td>\n",
       "      <td>4.860000</td>\n",
       "      <td>7.900000</td>\n",
       "      <td>1.340000</td>\n",
       "      <td>2.000000</td>\n",
       "      <td>1.500000</td>\n",
       "      <td>3.000000</td>\n",
       "      <td>2.000000</td>\n",
       "      <td>1.000000</td>\n",
       "    </tr>\n",
       "    <tr>\n",
       "      <th>max</th>\n",
       "      <td>15485.000000</td>\n",
       "      <td>1.000000</td>\n",
       "      <td>44.000000</td>\n",
       "      <td>32.000000</td>\n",
       "      <td>46.000000</td>\n",
       "      <td>108.000000</td>\n",
       "      <td>44.000000</td>\n",
       "      <td>66.000000</td>\n",
       "      <td>42.000000</td>\n",
       "      <td>45.000000</td>\n",
       "      <td>...</td>\n",
       "      <td>25.500000</td>\n",
       "      <td>15.490000</td>\n",
       "      <td>21.100000</td>\n",
       "      <td>42.270000</td>\n",
       "      <td>24.580000</td>\n",
       "      <td>15.000000</td>\n",
       "      <td>8.000000</td>\n",
       "      <td>22.000000</td>\n",
       "      <td>42.500000</td>\n",
       "      <td>14.000000</td>\n",
       "    </tr>\n",
       "  </tbody>\n",
       "</table>\n",
       "<p>8 rows × 517 columns</p>\n",
       "</div>"
      ],
      "text/plain": [
       "             GeneId    Prediction     H3K4me3_1     H3K4me1_1    H3K36me3_1  \\\n",
       "count  15485.000000  15485.000000  15485.000000  15485.000000  15485.000000   \n",
       "mean    7743.000000      0.500936      1.475557      1.740265      2.341815   \n",
       "std     4470.278794      0.500015      1.874760      2.142546      3.810496   \n",
       "min        1.000000      0.000000      0.000000      0.000000      0.000000   \n",
       "25%     3872.000000      0.000000      0.000000      0.000000      0.000000   \n",
       "50%     7743.000000      1.000000      1.000000      1.000000      1.000000   \n",
       "75%    11614.000000      1.000000      2.000000      2.000000      3.000000   \n",
       "max    15485.000000      1.000000     44.000000     32.000000     46.000000   \n",
       "\n",
       "          H3K9me3_1    H3K27me3_1     H3K4me3_2     H3K4me1_2    H3K36me3_2  \\\n",
       "count  15485.000000  15485.000000  15485.000000  15485.000000  15485.000000   \n",
       "mean       1.847530      1.137036      1.478269      1.740523      2.354472   \n",
       "std        5.131625      1.476615      1.938940      2.127604      3.807168   \n",
       "min        0.000000      0.000000      0.000000      0.000000      0.000000   \n",
       "25%        0.000000      0.000000      0.000000      0.000000      0.000000   \n",
       "50%        1.000000      1.000000      1.000000      1.000000      1.000000   \n",
       "75%        2.000000      2.000000      2.000000      2.000000      3.000000   \n",
       "max      108.000000     44.000000     66.000000     42.000000     45.000000   \n",
       "\n",
       "            ...         H3K4me3_mean  H3K4me1_mean  H3K36me3_mean  \\\n",
       "count       ...         15485.000000  15485.000000   15485.000000   \n",
       "mean        ...             1.628247      1.533522       3.368313   \n",
       "std         ...             1.356499      0.856633       2.494893   \n",
       "min         ...             0.000000      0.000000       0.000000   \n",
       "25%         ...             0.770000      1.010000       1.210000   \n",
       "50%         ...             1.140000      1.340000       2.970000   \n",
       "75%         ...             2.090000      1.880000       4.860000   \n",
       "max         ...            25.500000     15.490000      21.100000   \n",
       "\n",
       "       H3K9me3_mean  H3K27me3_mean  H3K4me3_median  H3K4me1_median  \\\n",
       "count  15485.000000   15485.000000    15485.000000    15485.000000   \n",
       "mean       5.099660       1.118989        1.341233        1.218696   \n",
       "std        4.807508       0.619292        1.335168        0.756447   \n",
       "min        0.000000       0.000000        0.000000        0.000000   \n",
       "25%        1.170000       0.800000        1.000000        1.000000   \n",
       "50%        3.600000       1.060000        1.000000        1.000000   \n",
       "75%        7.900000       1.340000        2.000000        1.500000   \n",
       "max       42.270000      24.580000       15.000000        8.000000   \n",
       "\n",
       "       H3K36me3_median  H3K9me3_median  H3K27me3_median  \n",
       "count     15485.000000    15485.000000     15485.000000  \n",
       "mean          2.327995        1.782176         0.876493  \n",
       "std           2.091057        1.954224         0.616369  \n",
       "min           0.000000        0.000000         0.000000  \n",
       "25%           1.000000        1.000000         1.000000  \n",
       "50%           2.000000        1.000000         1.000000  \n",
       "75%           3.000000        2.000000         1.000000  \n",
       "max          22.000000       42.500000        14.000000  \n",
       "\n",
       "[8 rows x 517 columns]"
      ]
     },
     "execution_count": 9,
     "metadata": {},
     "output_type": "execute_result"
    }
   ],
   "source": [
    "data_raw.describe()"
   ]
  },
  {
   "cell_type": "code",
   "execution_count": 5,
   "metadata": {},
   "outputs": [
    {
     "name": "stdout",
     "output_type": "stream",
     "text": [
      "Expression\n",
      "0    7728\n",
      "1    7757\n",
      "dtype: int64\n"
     ]
    },
    {
     "data": {
      "text/plain": [
       "<matplotlib.axes._subplots.AxesSubplot at 0x21a7a74e898>"
      ]
     },
     "execution_count": 5,
     "metadata": {},
     "output_type": "execute_result"
    },
    {
     "data": {
      "image/png": "[encoded data removed]",
      "text/plain": [
       "<matplotlib.figure.Figure at 0x21a7a5df128>"
      ]
     },
     "metadata": {},
     "output_type": "display_data"
    }
   ],
   "source": [
    "##Distribution of Expression/Prediction Variable\n",
    "\n",
    "print(data_raw.groupby('Expression').size())\n",
    "sns.countplot(data_raw.Expression,label=\"Count\")"
   ]
  },
  {
   "cell_type": "code",
   "execution_count": 20,
   "metadata": {},
   "outputs": [
    {
     "data": {
      "text/html": [
       "<div>\n",
       "<style>\n",
       "    .dataframe thead tr:only-child th {\n",
       "        text-align: right;\n",
       "    }\n",
       "\n",
       "    .dataframe thead th {\n",
       "        text-align: left;\n",
       "    }\n",
       "\n",
       "    .dataframe tbody tr th {\n",
       "        vertical-align: top;\n",
       "    }\n",
       "</style>\n",
       "<table border=\"1\" class=\"dataframe\">\n",
       "  <thead>\n",
       "    <tr style=\"text-align: right;\">\n",
       "      <th></th>\n",
       "      <th>H3K4me3_1</th>\n",
       "      <th>H3K4me1_1</th>\n",
       "      <th>H3K36me3_1</th>\n",
       "      <th>H3K9me3_1</th>\n",
       "      <th>H3K27me3_1</th>\n",
       "      <th>H3K4me3_2</th>\n",
       "      <th>H3K4me1_2</th>\n",
       "      <th>H3K36me3_2</th>\n",
       "      <th>H3K9me3_2</th>\n",
       "      <th>H3K27me3_2</th>\n",
       "      <th>...</th>\n",
       "      <th>H3K4me3_mean</th>\n",
       "      <th>H3K4me1_mean</th>\n",
       "      <th>H3K36me3_mean</th>\n",
       "      <th>H3K9me3_mean</th>\n",
       "      <th>H3K27me3_mean</th>\n",
       "      <th>H3K4me3_median</th>\n",
       "      <th>H3K4me1_median</th>\n",
       "      <th>H3K36me3_median</th>\n",
       "      <th>H3K9me3_median</th>\n",
       "      <th>H3K27me3_median</th>\n",
       "    </tr>\n",
       "  </thead>\n",
       "  <tbody>\n",
       "    <tr>\n",
       "      <th>0</th>\n",
       "      <td>2</td>\n",
       "      <td>1</td>\n",
       "      <td>4</td>\n",
       "      <td>1</td>\n",
       "      <td>0</td>\n",
       "      <td>0</td>\n",
       "      <td>2</td>\n",
       "      <td>1</td>\n",
       "      <td>1</td>\n",
       "      <td>1</td>\n",
       "      <td>...</td>\n",
       "      <td>1.59</td>\n",
       "      <td>0.70</td>\n",
       "      <td>1.18</td>\n",
       "      <td>1.78</td>\n",
       "      <td>0.85</td>\n",
       "      <td>1.0</td>\n",
       "      <td>0.0</td>\n",
       "      <td>0.0</td>\n",
       "      <td>1.0</td>\n",
       "      <td>1.0</td>\n",
       "    </tr>\n",
       "    <tr>\n",
       "      <th>1</th>\n",
       "      <td>1</td>\n",
       "      <td>0</td>\n",
       "      <td>1</td>\n",
       "      <td>0</td>\n",
       "      <td>0</td>\n",
       "      <td>0</td>\n",
       "      <td>0</td>\n",
       "      <td>0</td>\n",
       "      <td>0</td>\n",
       "      <td>0</td>\n",
       "      <td>...</td>\n",
       "      <td>1.29</td>\n",
       "      <td>0.50</td>\n",
       "      <td>0.35</td>\n",
       "      <td>0.51</td>\n",
       "      <td>0.74</td>\n",
       "      <td>1.0</td>\n",
       "      <td>0.0</td>\n",
       "      <td>0.0</td>\n",
       "      <td>0.0</td>\n",
       "      <td>1.0</td>\n",
       "    </tr>\n",
       "    <tr>\n",
       "      <th>2</th>\n",
       "      <td>1</td>\n",
       "      <td>6</td>\n",
       "      <td>3</td>\n",
       "      <td>1</td>\n",
       "      <td>1</td>\n",
       "      <td>1</td>\n",
       "      <td>6</td>\n",
       "      <td>1</td>\n",
       "      <td>2</td>\n",
       "      <td>2</td>\n",
       "      <td>...</td>\n",
       "      <td>1.01</td>\n",
       "      <td>2.84</td>\n",
       "      <td>7.46</td>\n",
       "      <td>12.58</td>\n",
       "      <td>1.36</td>\n",
       "      <td>1.0</td>\n",
       "      <td>2.0</td>\n",
       "      <td>6.0</td>\n",
       "      <td>3.0</td>\n",
       "      <td>1.0</td>\n",
       "    </tr>\n",
       "    <tr>\n",
       "      <th>3</th>\n",
       "      <td>0</td>\n",
       "      <td>4</td>\n",
       "      <td>3</td>\n",
       "      <td>2</td>\n",
       "      <td>1</td>\n",
       "      <td>0</td>\n",
       "      <td>2</td>\n",
       "      <td>8</td>\n",
       "      <td>1</td>\n",
       "      <td>3</td>\n",
       "      <td>...</td>\n",
       "      <td>1.65</td>\n",
       "      <td>1.77</td>\n",
       "      <td>5.99</td>\n",
       "      <td>10.35</td>\n",
       "      <td>1.55</td>\n",
       "      <td>1.0</td>\n",
       "      <td>2.0</td>\n",
       "      <td>3.0</td>\n",
       "      <td>3.0</td>\n",
       "      <td>1.0</td>\n",
       "    </tr>\n",
       "    <tr>\n",
       "      <th>4</th>\n",
       "      <td>0</td>\n",
       "      <td>1</td>\n",
       "      <td>2</td>\n",
       "      <td>0</td>\n",
       "      <td>0</td>\n",
       "      <td>0</td>\n",
       "      <td>0</td>\n",
       "      <td>4</td>\n",
       "      <td>0</td>\n",
       "      <td>0</td>\n",
       "      <td>...</td>\n",
       "      <td>0.70</td>\n",
       "      <td>1.17</td>\n",
       "      <td>9.89</td>\n",
       "      <td>2.41</td>\n",
       "      <td>0.97</td>\n",
       "      <td>0.0</td>\n",
       "      <td>1.0</td>\n",
       "      <td>6.5</td>\n",
       "      <td>1.5</td>\n",
       "      <td>1.0</td>\n",
       "    </tr>\n",
       "  </tbody>\n",
       "</table>\n",
       "<p>5 rows × 515 columns</p>\n",
       "</div>"
      ],
      "text/plain": [
       "   H3K4me3_1  H3K4me1_1  H3K36me3_1  H3K9me3_1  H3K27me3_1  H3K4me3_2  \\\n",
       "0          2          1           4          1           0          0   \n",
       "1          1          0           1          0           0          0   \n",
       "2          1          6           3          1           1          1   \n",
       "3          0          4           3          2           1          0   \n",
       "4          0          1           2          0           0          0   \n",
       "\n",
       "   H3K4me1_2  H3K36me3_2  H3K9me3_2  H3K27me3_2       ...         \\\n",
       "0          2           1          1           1       ...          \n",
       "1          0           0          0           0       ...          \n",
       "2          6           1          2           2       ...          \n",
       "3          2           8          1           3       ...          \n",
       "4          0           4          0           0       ...          \n",
       "\n",
       "   H3K4me3_mean  H3K4me1_mean  H3K36me3_mean  H3K9me3_mean  H3K27me3_mean  \\\n",
       "0          1.59          0.70           1.18          1.78           0.85   \n",
       "1          1.29          0.50           0.35          0.51           0.74   \n",
       "2          1.01          2.84           7.46         12.58           1.36   \n",
       "3          1.65          1.77           5.99         10.35           1.55   \n",
       "4          0.70          1.17           9.89          2.41           0.97   \n",
       "\n",
       "   H3K4me3_median  H3K4me1_median  H3K36me3_median  H3K9me3_median  \\\n",
       "0             1.0             0.0              0.0             1.0   \n",
       "1             1.0             0.0              0.0             0.0   \n",
       "2             1.0             2.0              6.0             3.0   \n",
       "3             1.0             2.0              3.0             3.0   \n",
       "4             0.0             1.0              6.5             1.5   \n",
       "\n",
       "   H3K27me3_median  \n",
       "0              1.0  \n",
       "1              1.0  \n",
       "2              1.0  \n",
       "3              1.0  \n",
       "4              1.0  \n",
       "\n",
       "[5 rows x 515 columns]"
      ]
     },
     "execution_count": 20,
     "metadata": {},
     "output_type": "execute_result"
    }
   ],
   "source": [
    "#Separating response (class) column from other variables\n",
    "\n",
    "X=data_raw.drop('Expression',axis=1) #Predictors\n",
    "X= X.drop('GeneId', axis=1) #Removing GeneId as it is not a predictor\n",
    "y=data_raw['Expression'] #Response\n",
    "X.head()"
   ]
  },
  {
   "cell_type": "code",
   "execution_count": 21,
   "metadata": {
    "collapsed": true
   },
   "outputs": [],
   "source": [
    "#Splitting dataset into training and testing\n",
    "\n",
    "X_train, X_test, y_train, y_test = train_test_split(X, y, test_size=0.3, random_state=42,shuffle = True)"
   ]
  },
  {
   "cell_type": "code",
   "execution_count": 5,
   "metadata": {},
   "outputs": [
    {
     "name": "stdout",
     "output_type": "stream",
     "text": [
      "(10839, 515)\n",
      "(4646, 515)\n"
     ]
    }
   ],
   "source": [
    "##Seeing the shape of test and training datset\n",
    "print(X_train.shape)\n",
    "\n",
    "print(X_test.shape)"
   ]
  },
  {
   "cell_type": "markdown",
   "metadata": {},
   "source": [
    "# Important functions for Plotting Learning Curve and Getting best parameter for classifier"
   ]
  },
  {
   "cell_type": "code",
   "execution_count": 22,
   "metadata": {
    "collapsed": true
   },
   "outputs": [],
   "source": [
    "###Function for plotting learning curve\n",
    "\n",
    "def plot_learning_curve(estimator, title, X, y, ylim=None, cv=None,\n",
    "                        n_jobs=1, train_sizes=np.linspace(.1, 1.0, 5)):\n",
    "    \"\"\"\n",
    "    Generate a simple plot of the test and training learning curve.\n",
    "\n",
    "    Parameters\n",
    "    ----------\n",
    "    estimator : object type that implements the \"fit\" and \"predict\" methods\n",
    "        An object of that type which is cloned for each validation.\n",
    "\n",
    "    title : string\n",
    "        Title for the chart.\n",
    "\n",
    "    X : array-like, shape (n_samples, n_features)\n",
    "        Training vector, where n_samples is the number of samples and\n",
    "        n_features is the number of features.\n",
    "\n",
    "    y : array-like, shape (n_samples) or (n_samples, n_features), optional\n",
    "        Target relative to X for classification or regression;\n",
    "        None for unsupervised learning.\n",
    "\n",
    "    ylim : tuple, shape (ymin, ymax), optional\n",
    "        Defines minimum and maximum yvalues plotted.\n",
    "\n",
    "    cv : int, cross-validation generator or an iterable, optional\n",
    "        Determines the cross-validation splitting strategy.\n",
    "        Possible inputs for cv are:\n",
    "          - None, to use the default 3-fold cross-validation,\n",
    "          - integer, to specify the number of folds.\n",
    "          - An object to be used as a cross-validation generator.\n",
    "          - An iterable yielding train/test splits.\n",
    "\n",
    "        For integer/None inputs, if ``y`` is binary or multiclass,\n",
    "        :class:`StratifiedKFold` used. If the estimator is not a classifier\n",
    "        or if ``y`` is neither binary nor multiclass, :class:`KFold` is used.\n",
    "\n",
    "        Refer :ref:`User Guide <cross_validation>` for the various\n",
    "        cross-validators that can be used here.\n",
    "\n",
    "    n_jobs : integer, optional\n",
    "        Number of jobs to run in parallel (default 1).\n",
    "    \"\"\"\n",
    "    plt.figure()\n",
    "    plt.title(title)\n",
    "    if ylim is not None:\n",
    "        plt.ylim(*ylim)\n",
    "    plt.xlabel(\"Training examples\")\n",
    "    plt.ylabel(\"Score\")\n",
    "    train_sizes, train_scores, test_scores = learning_curve(\n",
    "        estimator, X, y, cv=cv, n_jobs=n_jobs, train_sizes=train_sizes)\n",
    "    train_scores_mean = np.mean(train_scores, axis=1)\n",
    "    train_scores_std = np.std(train_scores, axis=1)\n",
    "    test_scores_mean = np.mean(test_scores, axis=1)\n",
    "    test_scores_std = np.std(test_scores, axis=1)\n",
    "    plt.grid()\n",
    "\n",
    "    plt.fill_between(train_sizes, train_scores_mean - train_scores_std,\n",
    "                     train_scores_mean + train_scores_std, alpha=0.1,\n",
    "                     color=\"r\")\n",
    "    plt.fill_between(train_sizes, test_scores_mean - test_scores_std,\n",
    "                     test_scores_mean + test_scores_std, alpha=0.1, color=\"g\")\n",
    "    plt.plot(train_sizes, train_scores_mean, 'o-', color=\"r\",\n",
    "             label=\"Training score\")\n",
    "    plt.plot(train_sizes, test_scores_mean, 'o-', color=\"g\",\n",
    "             label=\"Cross-validation score\")\n",
    "\n",
    "    plt.legend(loc=\"best\")\n",
    "    return plt"
   ]
  },
  {
   "cell_type": "code",
   "execution_count": 33,
   "metadata": {
    "collapsed": true
   },
   "outputs": [],
   "source": [
    "##Creating function to get best parameters for the classifier\n",
    "def getParametersFromGridSearchCV(X_train, y_train, classifier, par_grid):\n",
    "\n",
    "    kfold=StratifiedKFold(n_splits=10,shuffle=True,random_state=0)\n",
    "    \n",
    "    model = GridSearchCV(estimator = classifier, param_grid=par_grid, cv= kfold, return_train_score=True,n_jobs = 3)\n",
    "    model.fit(X_train, y_train)\n",
    "    print(model.best_params_)\n",
    "    print(model.best_score_)\n",
    "    return model.cv_results_[\"mean_train_score\"], model.cv_results_[\"mean_test_score\"], model.cv_results_[\"mean_fit_time\"], model.cv_results_[\"params\"]"
   ]
  },
  {
   "cell_type": "markdown",
   "metadata": {},
   "source": [
    "# Models Implementation"
   ]
  },
  {
   "cell_type": "markdown",
   "metadata": {},
   "source": [
    "# 1. Decision Tree"
   ]
  },
  {
   "cell_type": "code",
   "execution_count": 50,
   "metadata": {},
   "outputs": [
    {
     "name": "stdout",
     "output_type": "stream",
     "text": [
      "{'criterion': 'gini', 'max_depth': 5}\n",
      "0.843158963004\n"
     ]
    }
   ],
   "source": [
    "#Creating decision tree\n",
    "dtree = DecisionTreeClassifier(random_state=20)\n",
    "par_grid_tree = {'criterion': ['gini','entropy'],'max_depth': [5,10,15,20,25,30,50]} \n",
    "train_score1,test_score1,time1,params1 = getParametersFromGridSearchCV(X_train, y_train,dtree,par_grid_tree) "
   ]
  },
  {
   "cell_type": "code",
   "execution_count": 52,
   "metadata": {},
   "outputs": [
    {
     "name": "stdout",
     "output_type": "stream",
     "text": [
      "Train_score = [ 0.8610368   0.92721757  0.9626555   0.97637139  0.98582285  0.99209647\n",
      "  0.99880062  0.85773595  0.92391675  0.9792929   0.99504875  0.99826757\n",
      "  0.99909791  0.99909791] \n",
      " \n",
      " Test_score = [ 0.84315896  0.82387674  0.81040686  0.8005351   0.78909493  0.78494326\n",
      "  0.77959221  0.84297444  0.81824892  0.79499954  0.78346711  0.78374389\n",
      "  0.78134514  0.78088385] \n",
      " \n",
      " Fit_time = [ 0.70982904  1.42254179  2.01327348  2.39293423  2.81129582  3.08348458\n",
      "  3.34447234  0.71568816  1.45716329  1.82434084  1.95218475  1.89963217\n",
      "  1.89205058  1.91028464] \n",
      " \n",
      " Params = [{'criterion': 'gini', 'max_depth': 5}, {'criterion': 'gini', 'max_depth': 10}, {'criterion': 'gini', 'max_depth': 15}, {'criterion': 'gini', 'max_depth': 20}, {'criterion': 'gini', 'max_depth': 25}, {'criterion': 'gini', 'max_depth': 30}, {'criterion': 'gini', 'max_depth': 50}, {'criterion': 'entropy', 'max_depth': 5}, {'criterion': 'entropy', 'max_depth': 10}, {'criterion': 'entropy', 'max_depth': 15}, {'criterion': 'entropy', 'max_depth': 20}, {'criterion': 'entropy', 'max_depth': 25}, {'criterion': 'entropy', 'max_depth': 30}, {'criterion': 'entropy', 'max_depth': 50}]\n"
     ]
    }
   ],
   "source": [
    "##Printing scores, times and parameters selected\n",
    "print(\"Train_score =\", train_score1,\"\\n\",\"\\n\",\"Test_score =\",test_score1,\"\\n\",\"\\n\",\"Fit_time =\", time1,\"\\n\",\"\\n\",\"Params =\",params1)"
   ]
  },
  {
   "cell_type": "code",
   "execution_count": 48,
   "metadata": {},
   "outputs": [
    {
     "data": {
      "text/plain": [
       "0.82759362892811017"
      ]
     },
     "execution_count": 48,
     "metadata": {},
     "output_type": "execute_result"
    }
   ],
   "source": [
    "##Testing accuracy on y_test with best parameters\n",
    "dt_clf = DecisionTreeClassifier( max_depth=5 , criterion = \"gini\", random_state=20 )\n",
    "dt_clf.fit(X_train, y_train)\n",
    "y_pred = dt_clf.predict(X_test)\n",
    "\n",
    "accuracy_score(y_test,y_pred)"
   ]
  },
  {
   "cell_type": "code",
   "execution_count": 14,
   "metadata": {},
   "outputs": [
    {
     "data": {
      "image/png": "[encoded data removed]",
      "text/plain": [
       "<matplotlib.figure.Figure at 0x1a144dc0048>"
      ]
     },
     "metadata": {},
     "output_type": "display_data"
    }
   ],
   "source": [
    "###Plotting Learning Curve for DT\n",
    "\n",
    "title = \"Learning Curves (Decision Tree - Gene Expression Data)\"\n",
    "# Cross validation with 100 iterations to get smoother mean test and train\n",
    "# score curves, each time with 20% data randomly selected as a validation set.\n",
    "\n",
    "dt_clf = DecisionTreeClassifier( max_depth=5, criterion = \"gini\", random_state=20 )\n",
    "\n",
    "plot_learning_curve(dt_clf, title, X_train, y_train, ylim=(0.8, 0.97), cv=10, n_jobs=4)\n",
    "plt.show()"
   ]
  },
  {
   "cell_type": "code",
   "execution_count": 57,
   "metadata": {},
   "outputs": [
    {
     "data": {
      "image/png": "[encoded data removed]",
      "text/plain": [
       "<matplotlib.figure.Figure at 0x2a502aec438>"
      ]
     },
     "metadata": {},
     "output_type": "display_data"
    }
   ],
   "source": [
    "##Plotting accuracy vs max depth for each criterion curve \n",
    "\n",
    "index_gini = range(0,7)\n",
    "index_entropy = range(7,14)\n",
    "\n",
    "train_score_gini = []\n",
    "test_score_gini = []\n",
    "for i in index_gini:\n",
    "    train_score_gini.append(train_score1.tolist()[i])\n",
    "    test_score_gini.append(test_score1.tolist()[i])\n",
    "\n",
    "train_score_entropy = []\n",
    "test_score_entropy = []\n",
    "for j in index_entropy:\n",
    "    train_score_entropy.append(train_score1.tolist()[j])\n",
    "    test_score_entropy.append(test_score1.tolist()[j])    \n",
    "    \n",
    "\n",
    "plt.figure()\n",
    "plt.grid()    \n",
    "plt.plot([5,10,15,20,25,30,50], train_score_gini, 'o-', label = \"Training set-gini\")\n",
    "plt.plot([5,10,15,20,25,30,50], test_score_gini, 'o-', label = \"CV Set-gini\")\n",
    "plt.plot([5,10,15,20,25,30,50], train_score_entropy, 'o-', label = \"Training set-entropy\")\n",
    "plt.plot([5,10,15,20,25,30,50], test_score_entropy, 'o-', label = \"CV Set-entropy\")\n",
    "\n",
    "\n",
    "#plt.xlim(0,60)\n",
    "#plt.ylim(0.92,0.99)\n",
    "plt.ylabel('Accuracy')\n",
    "plt.xlabel('Max Depth')\n",
    "plt.title('Accuracy vs Max Depth for different criterion on Gene Expression Dataset')\n",
    "plt.legend(loc =\"best\")\n",
    "plt.show()"
   ]
  },
  {
   "cell_type": "markdown",
   "metadata": {},
   "source": [
    "# 2. Gradient Boosting Classifier"
   ]
  },
  {
   "cell_type": "code",
   "execution_count": 58,
   "metadata": {},
   "outputs": [
    {
     "name": "stdout",
     "output_type": "stream",
     "text": [
      "{'max_depth': 5, 'n_estimators': 100}\n",
      "0.856259802565\n"
     ]
    }
   ],
   "source": [
    "#Creating Gradient Boosting Classifier\n",
    "GB_clf = GradientBoostingClassifier(random_state=20)\n",
    "par_grid_GB = {'n_estimators': [50,100,150,200,250],'max_depth': [5]} \n",
    "train_score2,test_score2,time2,params2 = getParametersFromGridSearchCV(X_train, y_train,GB_clf,par_grid_GB) "
   ]
  },
  {
   "cell_type": "code",
   "execution_count": 61,
   "metadata": {},
   "outputs": [
    {
     "name": "stdout",
     "output_type": "stream",
     "text": [
      "Train_score = [ 0.89928347  0.92321965  0.94615125  0.96600752  0.98114832] \n",
      " \n",
      " Test_score = [ 0.85598302  0.8562598   0.85607528  0.85395332  0.85312298] \n",
      " \n",
      " Fit_time = [  25.86824219   43.33411303   63.25359509   82.37377176  103.41165962] \n",
      " \n",
      " Params = [{'max_depth': 5, 'n_estimators': 50}, {'max_depth': 5, 'n_estimators': 100}, {'max_depth': 5, 'n_estimators': 150}, {'max_depth': 5, 'n_estimators': 200}, {'max_depth': 5, 'n_estimators': 250}]\n"
     ]
    }
   ],
   "source": [
    "##Printing scores, times and parameters selected\n",
    "print(\"Train_score =\", train_score2,\"\\n\",\"\\n\",\"Test_score =\",test_score2,\"\\n\",\"\\n\",\"Fit_time =\", time2,\"\\n\",\"\\n\",\"Params =\",params2)"
   ]
  },
  {
   "cell_type": "code",
   "execution_count": 64,
   "metadata": {},
   "outputs": [
    {
     "name": "stdout",
     "output_type": "stream",
     "text": [
      "Wall time: 0 ns\n"
     ]
    },
    {
     "data": {
      "text/plain": [
       "0.84954799827808869"
      ]
     },
     "execution_count": 64,
     "metadata": {},
     "output_type": "execute_result"
    }
   ],
   "source": [
    "##Testing accuracy on y_test with best parameters\n",
    "GB_clf = GradientBoostingClassifier( max_depth=5, n_estimators= 100,random_state= 20)\n",
    "GB_clf.fit(X_train, y_train)\n",
    "y_pred = GB_clf.predict(X_test)\n",
    "\n",
    "accuracy_score(y_test,y_pred)"
   ]
  },
  {
   "cell_type": "code",
   "execution_count": 15,
   "metadata": {},
   "outputs": [
    {
     "data": {
      "image/png": "[encoded data removed]",
      "text/plain": [
       "<matplotlib.figure.Figure at 0x1a144e34828>"
      ]
     },
     "metadata": {},
     "output_type": "display_data"
    }
   ],
   "source": [
    "###Plotting Learning Curve for Gradient Boosting\n",
    "\n",
    "title = \"Learning Curves (Gradient Boosting - Gene Expression Data)\"\n",
    "# Cross validation with 100 iterations to get smoother mean test and train\n",
    "# score curves, each time with 20% data randomly selected as a validation set.\n",
    "\n",
    "GB_clf = GradientBoostingClassifier( max_depth=5, n_estimators = 100, random_state=20 )\n",
    "\n",
    "plot_learning_curve(GB_clf, title, X_train, y_train, ylim=(0.8, 1.01), cv=10, n_jobs=10)\n",
    "plt.show()"
   ]
  },
  {
   "cell_type": "code",
   "execution_count": 66,
   "metadata": {},
   "outputs": [
    {
     "data": {
      "image/png": "[encoded data removed]",
      "text/plain": [
       "<matplotlib.figure.Figure at 0x2a56cae82e8>"
      ]
     },
     "metadata": {},
     "output_type": "display_data"
    }
   ],
   "source": [
    "##Plotting Accuracy vs n_estimators graph using matplotlib\n",
    "\n",
    "plt.figure()\n",
    "\n",
    "plt.grid()\n",
    "plt.plot(range(50,300,50), train_score2.tolist(), 'o-', color=\"r\", label = \"Training set\")\n",
    "plt.plot(range(50,300,50), test_score2.tolist(), 'o-', color=\"g\", label = \"Cross Validation Set\")\n",
    "plt.ylabel('Accuracy')\n",
    "plt.xlabel('Number of Estimators')\n",
    "plt.title('Accuracy vs Estimators for Gradient Boosting on Gene Expression Dataset')\n",
    "#plt.tight_layout()\n",
    "plt.legend()\n",
    "plt.show()"
   ]
  },
  {
   "cell_type": "markdown",
   "metadata": {},
   "source": [
    "# 3. SVM"
   ]
  },
  {
   "cell_type": "code",
   "execution_count": 44,
   "metadata": {
    "collapsed": true
   },
   "outputs": [],
   "source": [
    "##Standardizing the data for SVM \n",
    "from sklearn.preprocessing import StandardScaler\n",
    "scaler = StandardScaler()\n",
    "X_train_p = scaler.fit_transform(X_train)  # compute mean, std and transform training data as well\n",
    "X_test_p = scaler.transform(X_test) # same as above"
   ]
  },
  {
   "cell_type": "code",
   "execution_count": 13,
   "metadata": {},
   "outputs": [
    {
     "name": "stdout",
     "output_type": "stream",
     "text": [
      "{'C': 1, 'kernel': 'rbf'}\n",
      "0.853584278993\n"
     ]
    }
   ],
   "source": [
    "#Creating SVM Classifier\n",
    "SVM_clf = SVC(random_state=300)\n",
    "par_grid_SVM = {'kernel': ['linear','rbf', 'poly'], 'C': [1]} \n",
    "train_score3,test_score3,time3,params3 = getParametersFromGridSearchCV(X_train_p, y_train,SVM_clf,par_grid_SVM)"
   ]
  },
  {
   "cell_type": "code",
   "execution_count": 14,
   "metadata": {},
   "outputs": [
    {
     "name": "stdout",
     "output_type": "stream",
     "text": [
      "Train_score = [ 0.86505522  0.90321986  0.91346065] \n",
      " \n",
      " Test_score = [ 0.84251315  0.85358428  0.84952486] \n",
      " \n",
      " Fit_time = [ 528.17078371   59.9851826    71.90723424] \n",
      " \n",
      " Params = [{'C': 1, 'kernel': 'linear'}, {'C': 1, 'kernel': 'rbf'}, {'C': 1, 'kernel': 'poly'}]\n"
     ]
    }
   ],
   "source": [
    "##Printing scores, times and parameters selected\n",
    "print(\"Train_score =\", train_score3,\"\\n\",\"\\n\",\"Test_score =\",test_score3,\"\\n\",\"\\n\",\"Fit_time =\", time3,\"\\n\",\"\\n\",\"Params =\",params3)"
   ]
  },
  {
   "cell_type": "code",
   "execution_count": 15,
   "metadata": {},
   "outputs": [
    {
     "data": {
      "text/plain": [
       "0.84761084804132591"
      ]
     },
     "execution_count": 15,
     "metadata": {},
     "output_type": "execute_result"
    }
   ],
   "source": [
    "##Testing accuracy on y_test with best parameters\n",
    "SVM_clf = SVC( kernel= 'rbf', C = 1 ,random_state= 300)\n",
    "SVM_clf.fit(X_train_p, y_train)\n",
    "y_pred = SVM_clf.predict(X_test_p)\n",
    "\n",
    "accuracy_score(y_test,y_pred)"
   ]
  },
  {
   "cell_type": "code",
   "execution_count": 37,
   "metadata": {},
   "outputs": [
    {
     "data": {
      "image/png": "[encoded data removed]",
      "text/plain": [
       "<matplotlib.figure.Figure at 0x21a101836d8>"
      ]
     },
     "metadata": {},
     "output_type": "display_data"
    }
   ],
   "source": [
    "###Plotting Learning Curve for SVM\n",
    "\n",
    "title = \"Learning Curves (SVM - Gene Expression Data)\"\n",
    "# Cross validation with 100 iterations to get smoother mean test and train\n",
    "# score curves, each time with 20% data randomly selected as a validation set.\n",
    "\n",
    "SVM_clf = SVC( kernel= 'rbf', C = 1,random_state= 300)\n",
    "\n",
    "plot_learning_curve(SVM_clf, title, X_train_p, y_train, ylim=(0.82,0.97), cv=10, n_jobs=10)\n",
    "plt.yticks(np.arange(0.82,0.98,0.01))\n",
    "plt.show()"
   ]
  },
  {
   "cell_type": "markdown",
   "metadata": {},
   "source": [
    "# 4. KNN"
   ]
  },
  {
   "cell_type": "code",
   "execution_count": 18,
   "metadata": {},
   "outputs": [
    {
     "name": "stdout",
     "output_type": "stream",
     "text": [
      "{'n_neighbors': 35}\n",
      "0.851462312021\n"
     ]
    }
   ],
   "source": [
    "#Creating KNN Classifier\n",
    "KNN_clf = KNeighborsClassifier()\n",
    "par_grid_KNN = {'n_neighbors' : range(5,45,10)} \n",
    "train_score4,test_score4,time4,params4 = getParametersFromGridSearchCV(X_train, y_train,KNN_clf,par_grid_KNN)"
   ]
  },
  {
   "cell_type": "code",
   "execution_count": 19,
   "metadata": {},
   "outputs": [
    {
     "name": "stdout",
     "output_type": "stream",
     "text": [
      "Train_score = [ 0.87497824  0.8615186   0.8572234   0.85669036] \n",
      " \n",
      " Test_score = [ 0.83909955  0.8508165   0.84970938  0.85146231] \n",
      " \n",
      " Fit_time = [ 0.84623652  1.31340818  1.29062171  1.23543077] \n",
      " \n",
      " Params = [{'n_neighbors': 5}, {'n_neighbors': 15}, {'n_neighbors': 25}, {'n_neighbors': 35}]\n"
     ]
    }
   ],
   "source": [
    "##Printing scores, times and parameters selected\n",
    "print(\"Train_score =\", train_score4,\"\\n\",\"\\n\",\"Test_score =\",test_score4,\"\\n\",\"\\n\",\"Fit_time =\", time4,\"\\n\",\"\\n\",\"Params =\",params4)"
   ]
  },
  {
   "cell_type": "code",
   "execution_count": 25,
   "metadata": {},
   "outputs": [
    {
     "name": "stdout",
     "output_type": "stream",
     "text": [
      "{'n_neighbors': 50}\n",
      "0.851646830888\n"
     ]
    }
   ],
   "source": [
    "##Checking for more K values\n",
    "par_grid_KNN = {'n_neighbors' : range(50,250,50)} \n",
    "train_score4_1,test_score4_1,time4_1,params4_1 = getParametersFromGridSearchCV(X_train, y_train,KNN_clf,par_grid_KNN)"
   ]
  },
  {
   "cell_type": "code",
   "execution_count": 26,
   "metadata": {},
   "outputs": [
    {
     "name": "stdout",
     "output_type": "stream",
     "text": [
      "Train_score = [ 0.85486568  0.85283596  0.85113429  0.84975039] \n",
      " \n",
      " Test_score = [ 0.85164683  0.85109327  0.85044746  0.84860227] \n",
      " \n",
      " Fit_time = [ 1.16401505  2.27427797  1.86231873  1.94562261] \n",
      " \n",
      " Params = [{'n_neighbors': 50}, {'n_neighbors': 100}, {'n_neighbors': 150}, {'n_neighbors': 200}]\n"
     ]
    }
   ],
   "source": [
    "##Printing scores, times and parameters selected\n",
    "print(\"Train_score =\", train_score4_1,\"\\n\",\"\\n\",\"Test_score =\",test_score4_1,\"\\n\",\"\\n\",\"Fit_time =\", time4_1,\"\\n\",\"\\n\",\"Params =\",params4_1)"
   ]
  },
  {
   "cell_type": "code",
   "execution_count": 52,
   "metadata": {},
   "outputs": [
    {
     "data": {
      "text/plain": [
       "0.8484718037021094"
      ]
     },
     "execution_count": 52,
     "metadata": {},
     "output_type": "execute_result"
    }
   ],
   "source": [
    "##Testing accuracy on y_test with best parameters\n",
    "KNN_clf = KNeighborsClassifier(n_neighbors= 50)\n",
    "KNN_clf.fit(X_train, y_train)\n",
    "y_pred = KNN_clf.predict(X_test)\n",
    "\n",
    "accuracy_score(y_test,y_pred)"
   ]
  },
  {
   "cell_type": "code",
   "execution_count": 36,
   "metadata": {},
   "outputs": [
    {
     "data": {
      "image/png": "[encoded data removed]",
      "text/plain": [
       "<matplotlib.figure.Figure at 0x21a10183358>"
      ]
     },
     "metadata": {},
     "output_type": "display_data"
    }
   ],
   "source": [
    "###Plotting Learning Curve for KNN\n",
    "\n",
    "title = \"Learning Curves (KNN - Gene Expression Data)\"\n",
    "# Cross validation with 100 iterations to get smoother mean test and train\n",
    "# score curves, each time with 20% data randomly selected as a validation set.\n",
    "\n",
    "KNN_clf = KNeighborsClassifier(n_neighbors=50)\n",
    "\n",
    "plot_learning_curve(KNN_clf, title, X_train, y_train, ylim=(0.82, 0.90), cv=10, n_jobs=10)\n",
    "plt.yticks(np.arange(0.82,0.91,0.01))\n",
    "plt.show()"
   ]
  },
  {
   "cell_type": "code",
   "execution_count": 31,
   "metadata": {},
   "outputs": [
    {
     "data": {
      "image/png": "[encoded data removed]",
      "text/plain": [
       "<matplotlib.figure.Figure at 0x21a105e97b8>"
      ]
     },
     "metadata": {},
     "output_type": "display_data"
    }
   ],
   "source": [
    "##Accuracy vs k graph\n",
    "train_score4_2   = train_score4.tolist()+train_score4_1.tolist()\n",
    "test_score4_2   = test_score4.tolist()+test_score4_1.tolist()\n",
    "\n",
    "plt.figure()\n",
    "plt.grid()\n",
    "plt.plot([5,15,25,35,50,100,150,200], train_score4_2, 'o-', color=\"r\", label = \"Training set\")\n",
    "plt.plot([5,15,25,35,50,100,150,200], test_score4_2, 'o-', color=\"g\", label = \"Cross Validation Set\")\n",
    "plt.ylabel('Accuracy')\n",
    "plt.xlabel('K')\n",
    "plt.title('Accuracy vs K for KNN Classifier on Gene Expression Dataset')\n",
    "plt.legend()\n",
    "plt.show()"
   ]
  },
  {
   "cell_type": "markdown",
   "metadata": {},
   "source": [
    "# 5. Neural Network"
   ]
  },
  {
   "cell_type": "code",
   "execution_count": 36,
   "metadata": {},
   "outputs": [
    {
     "name": "stdout",
     "output_type": "stream",
     "text": [
      "{'hidden_layer_sizes': (5, 2), 'max_iter': 100}\n",
      "0.854230095027\n"
     ]
    }
   ],
   "source": [
    "#Creating Multi Layer Perceptron\n",
    "MLP_clf = MLPClassifier(random_state =500, activation = 'tanh')\n",
    "par_grid_MLP = {'max_iter' : range(50,300,50), 'hidden_layer_sizes' : [(5,2),(5,3),(5,4)]} \n",
    "train_score_iter,test_score_iter,time_iter,params_iter = getParametersFromGridSearchCV(X_train, y_train,MLP_clf,par_grid_MLP)"
   ]
  },
  {
   "cell_type": "code",
   "execution_count": 37,
   "metadata": {},
   "outputs": [
    {
     "name": "stdout",
     "output_type": "stream",
     "text": [
      "Train_score = [ 0.87203621  0.87210797  0.87210797  0.87210797  0.87210797  0.86270762\n",
      "  0.86273837  0.86273837  0.86273837  0.86273837  0.87211829  0.87280512\n",
      "  0.87280512  0.87280512  0.87280512] \n",
      " \n",
      " Test_score = [ 0.85413784  0.8542301   0.8542301   0.8542301   0.8542301   0.843528\n",
      "  0.843528    0.843528    0.843528    0.843528    0.85201587  0.85183135\n",
      "  0.85183135  0.85183135  0.85183135] \n",
      " \n",
      " Fit_time = [  7.80796885  19.33740623  24.28365037  28.23638601  30.02774897\n",
      "  20.191484    10.86860049   5.27189293   5.40314758  13.35341654\n",
      "  61.02883708  80.14137416  78.13161206  71.88886578  51.32013628] \n",
      " \n",
      " Params = [{'hidden_layer_sizes': (5, 2), 'max_iter': 50}, {'hidden_layer_sizes': (5, 2), 'max_iter': 100}, {'hidden_layer_sizes': (5, 2), 'max_iter': 150}, {'hidden_layer_sizes': (5, 2), 'max_iter': 200}, {'hidden_layer_sizes': (5, 2), 'max_iter': 250}, {'hidden_layer_sizes': (5, 3), 'max_iter': 50}, {'hidden_layer_sizes': (5, 3), 'max_iter': 100}, {'hidden_layer_sizes': (5, 3), 'max_iter': 150}, {'hidden_layer_sizes': (5, 3), 'max_iter': 200}, {'hidden_layer_sizes': (5, 3), 'max_iter': 250}, {'hidden_layer_sizes': (5, 4), 'max_iter': 50}, {'hidden_layer_sizes': (5, 4), 'max_iter': 100}, {'hidden_layer_sizes': (5, 4), 'max_iter': 150}, {'hidden_layer_sizes': (5, 4), 'max_iter': 200}, {'hidden_layer_sizes': (5, 4), 'max_iter': 250}]\n"
     ]
    }
   ],
   "source": [
    "##Printing scores, times and parameters selected\n",
    "print(\"Train_score =\", train_score_iter,\"\\n\",\"\\n\",\"Test_score =\",test_score_iter,\"\\n\",\"\\n\",\"Fit_time =\", time_iter,\"\\n\",\"\\n\",\"Params =\",\n",
    "      params_iter)"
   ]
  },
  {
   "cell_type": "code",
   "execution_count": 12,
   "metadata": {},
   "outputs": [
    {
     "name": "stdout",
     "output_type": "stream",
     "text": [
      "{'hidden_layer_sizes': (100, 4), 'max_iter': 150}\n",
      "0.848602269582\n"
     ]
    }
   ],
   "source": [
    "##Checking for neurons=100\n",
    "par_grid_MLP = {'max_iter' : range(50,350,100), 'hidden_layer_sizes' : [(100,2),(100,3),(100,4)]} \n",
    "train_score_iter2,test_score_iter2,time_iter2,params_iter2 = getParametersFromGridSearchCV(X_train, y_train,MLP_clf,par_grid_MLP)"
   ]
  },
  {
   "cell_type": "code",
   "execution_count": 13,
   "metadata": {},
   "outputs": [
    {
     "name": "stdout",
     "output_type": "stream",
     "text": [
      "Train_score = [ 0.90668472  0.91272265  0.91272265  0.91147177  0.9142396   0.9142396\n",
      "  0.90009342  0.90317902  0.90317902] \n",
      " \n",
      " Test_score = [ 0.84408156  0.841037    0.841037    0.8396531   0.84205185  0.84205185\n",
      "  0.84491189  0.84860227  0.84860227] \n",
      " \n",
      " Fit_time = [  98.61596501  194.71597035  233.15896957  208.46982379  244.90522757\n",
      "  236.2931509   201.13066711  174.70091059  130.47419512] \n",
      " \n",
      " Params = [{'hidden_layer_sizes': (100, 2), 'max_iter': 50}, {'hidden_layer_sizes': (100, 2), 'max_iter': 150}, {'hidden_layer_sizes': (100, 2), 'max_iter': 250}, {'hidden_layer_sizes': (100, 3), 'max_iter': 50}, {'hidden_layer_sizes': (100, 3), 'max_iter': 150}, {'hidden_layer_sizes': (100, 3), 'max_iter': 250}, {'hidden_layer_sizes': (100, 4), 'max_iter': 50}, {'hidden_layer_sizes': (100, 4), 'max_iter': 150}, {'hidden_layer_sizes': (100, 4), 'max_iter': 250}]\n"
     ]
    }
   ],
   "source": [
    "##Printing scores, times and parameters selected\n",
    "print(\"Train_score =\", train_score_iter2,\"\\n\",\"\\n\",\"Test_score =\",test_score_iter2,\"\\n\",\"\\n\",\"Fit_time =\", time_iter2,\"\\n\",\"\\n\",\"Params =\",\n",
    "      params_iter2)"
   ]
  },
  {
   "cell_type": "code",
   "execution_count": 41,
   "metadata": {},
   "outputs": [
    {
     "data": {
      "text/plain": [
       "0.84653465346534651"
      ]
     },
     "execution_count": 41,
     "metadata": {},
     "output_type": "execute_result"
    }
   ],
   "source": [
    "##Testing accuracy on y_test with best parameters\n",
    "MLP_clf = MLPClassifier(random_state =500, activation = 'tanh', hidden_layer_sizes = (5, 2), max_iter =100 , solver = 'adam')\n",
    "MLP_clf.fit(X_train, y_train)\n",
    "y_pred = MLP_clf.predict(X_test)\n",
    "\n",
    "accuracy_score(y_test,y_pred)"
   ]
  },
  {
   "cell_type": "code",
   "execution_count": 42,
   "metadata": {},
   "outputs": [
    {
     "data": {
      "image/png": "[encoded data removed]",
      "text/plain": [
       "<matplotlib.figure.Figure at 0x21c866135f8>"
      ]
     },
     "metadata": {},
     "output_type": "display_data"
    }
   ],
   "source": [
    "###Plotting Learning Curve for Neural Network\n",
    "\n",
    "title = \"Learning Curves (Neural Network - Gene Expression Data)\"\n",
    "# Cross validation with 100 iterations to get smoother mean test and train\n",
    "# score curves, each time with 20% data randomly selected as a validation set.\n",
    "\n",
    "MLP_clf =MLPClassifier(random_state =500, activation = 'tanh', hidden_layer_sizes = (5,2), max_iter = 100)\n",
    "\n",
    "plot_learning_curve(MLP_clf, title, X_train, y_train, ylim=(0.8, 0.97), cv=10, n_jobs=10)\n",
    "plt.yticks(np.arange(0.8,0.98,0.02))\n",
    "plt.show()"
   ]
  },
  {
   "cell_type": "code",
   "execution_count": 40,
   "metadata": {},
   "outputs": [
    {
     "data": {
      "image/png": "[encoded data removed]",
      "text/plain": [
       "<matplotlib.figure.Figure at 0x21c85d9a1d0>"
      ]
     },
     "metadata": {},
     "output_type": "display_data"
    }
   ],
   "source": [
    "##Plotting accuracy vs iterations\n",
    "\n",
    "##Plotting accuracy vs max_iter parameter for each kernel curve for rbf kernel\n",
    "index_layer2 = range(0,5)\n",
    "index_layer3 = range(5,10)\n",
    "index_layer4 = range(10,15)\n",
    "\n",
    "train_score_layer2 = []\n",
    "test_score_layer2 = []\n",
    "for i in index_layer2:\n",
    "    train_score_layer2.append(train_score_iter.tolist()[i])\n",
    "    test_score_layer2.append(test_score_iter.tolist()[i])\n",
    "\n",
    "train_score_layer3 = []\n",
    "test_score_layer3 = []\n",
    "for j in index_layer3:\n",
    "    train_score_layer3.append(train_score_iter.tolist()[j])\n",
    "    test_score_layer3.append(test_score_iter.tolist()[j])    \n",
    "    \n",
    "train_score_layer4 = []\n",
    "test_score_layer4 = []\n",
    "for k in index_layer4:\n",
    "    train_score_layer4.append(train_score_iter.tolist()[k])\n",
    "    test_score_layer4.append(test_score_iter.tolist()[k])      \n",
    "\n",
    "#train_score_layer5 = []\n",
    "#test_score_layer5 = []\n",
    "#for m in index_layer5:\n",
    "#    train_score_layer5.append(train_score_iter.tolist()[m])\n",
    "#    test_score_layer5.append(test_score_iter.tolist()[m])     \n",
    "    \n",
    "plt.figure()\n",
    "plt.grid()    \n",
    "plt.plot(range(50,300,50), train_score_layer2, 'o-', label = \"Training set-2layer\")\n",
    "plt.plot(range(50,300,50), test_score_layer2, 'o-', label = \"CV Set-2layer\")\n",
    "plt.plot(range(50,300,50), train_score_layer3, 'o-', label = \"Training set-3layer\")\n",
    "plt.plot(range(50,300,50), test_score_layer3, 'o-', label = \"CV Set-3layer\")\n",
    "plt.plot(range(50,300,50), train_score_layer4, 'o-', label = \"Training set-4layer\")\n",
    "plt.plot(range(50,300,50), test_score_layer4, 'o-', label = \"CV Set-4layer\")\n",
    "#plt.plot(range(50,350,100), train_score_layer5, 'o-', label = \"Training set-5layer\")\n",
    "#plt.plot(range(50,450,50), test_score_layer5, 'o-', label = \"CV Set-5layer\")\n",
    "\n",
    "#plt.xlim(0,60)\n",
    "#plt.ylim(0.92,0.99)\n",
    "plt.ylabel('Accuracy')\n",
    "plt.xlabel('max_iter parameter')\n",
    "plt.title('Accuracy vs max_iter for different number of layers with 5 neurons on Gene Expression Dataset')\n",
    "plt.legend(loc =\"best\")\n",
    "plt.show()"
   ]
  }
 ],
 "metadata": {
  "kernelspec": {
   "display_name": "Python 3",
   "language": "python",
   "name": "python3"
  },
  "language_info": {
   "codemirror_mode": {
    "name": "ipython",
    "version": 3
   },
   "file_extension": ".py",
   "mimetype": "text/x-python",
   "name": "python",
   "nbconvert_exporter": "python",
   "pygments_lexer": "ipython3",
   "version": "3.6.3"
  }
 },
 "nbformat": 4,
 "nbformat_minor": 2
}
