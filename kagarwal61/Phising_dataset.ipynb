{
 "cells": [
  {
   "cell_type": "code",
   "execution_count": 1,
   "metadata": {
    "collapsed": true
   },
   "outputs": [],
   "source": [
    "##Loading required libraries\n",
    "\n",
    "import numpy as np # linear algebra\n",
    "import pandas as pd# data processing, CSV file I/O (e.g. pd.read_csv)\n",
    "from sklearn import preprocessing\n",
    "import matplotlib.pyplot as plt\n",
    "from sklearn.metrics import accuracy_score\n",
    "\n",
    "from sklearn.tree import DecisionTreeClassifier  \n",
    "from sklearn.neighbors import KNeighborsClassifier\n",
    "from sklearn.svm import SVC\n",
    "from sklearn.neural_network import MLPClassifier\n",
    "from sklearn.ensemble import GradientBoostingClassifier\n",
    "\n",
    "from sklearn.model_selection import cross_val_score, GridSearchCV, cross_validate, train_test_split\n",
    "from sklearn.metrics import *\n",
    "\n",
    "from sklearn.model_selection import StratifiedKFold\n",
    "from sklearn.model_selection import ShuffleSplit\n",
    "from sklearn.model_selection import learning_curve\n",
    "\n",
    "import seaborn as sns\n",
    "%matplotlib inline"
   ]
  },
  {
   "cell_type": "markdown",
   "metadata": {},
   "source": [
    "# Data Manipulation"
   ]
  },
  {
   "cell_type": "code",
   "execution_count": 2,
   "metadata": {
    "collapsed": true
   },
   "outputs": [],
   "source": [
    "#Reading the raw data\n",
    "\n",
    "data_raw = pd.read_csv('./Phising_dataset.csv')"
   ]
  },
  {
   "cell_type": "code",
   "execution_count": 3,
   "metadata": {},
   "outputs": [
    {
     "name": "stdout",
     "output_type": "stream",
     "text": [
      "(11055, 31)\n"
     ]
    },
    {
     "data": {
      "text/html": [
       "<div>\n",
       "<style>\n",
       "    .dataframe thead tr:only-child th {\n",
       "        text-align: right;\n",
       "    }\n",
       "\n",
       "    .dataframe thead th {\n",
       "        text-align: left;\n",
       "    }\n",
       "\n",
       "    .dataframe tbody tr th {\n",
       "        vertical-align: top;\n",
       "    }\n",
       "</style>\n",
       "<table border=\"1\" class=\"dataframe\">\n",
       "  <thead>\n",
       "    <tr style=\"text-align: right;\">\n",
       "      <th></th>\n",
       "      <th>having_IPhaving_IP_Address</th>\n",
       "      <th>URLURL_Length</th>\n",
       "      <th>Shortining_Service</th>\n",
       "      <th>having_At_Symbol</th>\n",
       "      <th>double_slash_redirecting</th>\n",
       "      <th>Prefix_Suffix</th>\n",
       "      <th>having_Sub_Domain</th>\n",
       "      <th>SSLfinal_State</th>\n",
       "      <th>Domain_registeration_length</th>\n",
       "      <th>Favicon</th>\n",
       "      <th>...</th>\n",
       "      <th>popUpWidnow</th>\n",
       "      <th>Iframe</th>\n",
       "      <th>age_of_domain</th>\n",
       "      <th>DNSRecord</th>\n",
       "      <th>web_traffic</th>\n",
       "      <th>Page_Rank</th>\n",
       "      <th>Google_Index</th>\n",
       "      <th>Links_pointing_to_page</th>\n",
       "      <th>Statistical_report</th>\n",
       "      <th>Result</th>\n",
       "    </tr>\n",
       "  </thead>\n",
       "  <tbody>\n",
       "    <tr>\n",
       "      <th>0</th>\n",
       "      <td>-1</td>\n",
       "      <td>1</td>\n",
       "      <td>1</td>\n",
       "      <td>1</td>\n",
       "      <td>-1</td>\n",
       "      <td>-1</td>\n",
       "      <td>-1</td>\n",
       "      <td>-1</td>\n",
       "      <td>-1</td>\n",
       "      <td>1</td>\n",
       "      <td>...</td>\n",
       "      <td>1</td>\n",
       "      <td>1</td>\n",
       "      <td>-1</td>\n",
       "      <td>-1</td>\n",
       "      <td>-1</td>\n",
       "      <td>-1</td>\n",
       "      <td>1</td>\n",
       "      <td>1</td>\n",
       "      <td>-1</td>\n",
       "      <td>-1</td>\n",
       "    </tr>\n",
       "    <tr>\n",
       "      <th>1</th>\n",
       "      <td>1</td>\n",
       "      <td>1</td>\n",
       "      <td>1</td>\n",
       "      <td>1</td>\n",
       "      <td>1</td>\n",
       "      <td>-1</td>\n",
       "      <td>0</td>\n",
       "      <td>1</td>\n",
       "      <td>-1</td>\n",
       "      <td>1</td>\n",
       "      <td>...</td>\n",
       "      <td>1</td>\n",
       "      <td>1</td>\n",
       "      <td>-1</td>\n",
       "      <td>-1</td>\n",
       "      <td>0</td>\n",
       "      <td>-1</td>\n",
       "      <td>1</td>\n",
       "      <td>1</td>\n",
       "      <td>1</td>\n",
       "      <td>-1</td>\n",
       "    </tr>\n",
       "    <tr>\n",
       "      <th>2</th>\n",
       "      <td>1</td>\n",
       "      <td>0</td>\n",
       "      <td>1</td>\n",
       "      <td>1</td>\n",
       "      <td>1</td>\n",
       "      <td>-1</td>\n",
       "      <td>-1</td>\n",
       "      <td>-1</td>\n",
       "      <td>-1</td>\n",
       "      <td>1</td>\n",
       "      <td>...</td>\n",
       "      <td>1</td>\n",
       "      <td>1</td>\n",
       "      <td>1</td>\n",
       "      <td>-1</td>\n",
       "      <td>1</td>\n",
       "      <td>-1</td>\n",
       "      <td>1</td>\n",
       "      <td>0</td>\n",
       "      <td>-1</td>\n",
       "      <td>-1</td>\n",
       "    </tr>\n",
       "    <tr>\n",
       "      <th>3</th>\n",
       "      <td>1</td>\n",
       "      <td>0</td>\n",
       "      <td>1</td>\n",
       "      <td>1</td>\n",
       "      <td>1</td>\n",
       "      <td>-1</td>\n",
       "      <td>-1</td>\n",
       "      <td>-1</td>\n",
       "      <td>1</td>\n",
       "      <td>1</td>\n",
       "      <td>...</td>\n",
       "      <td>1</td>\n",
       "      <td>1</td>\n",
       "      <td>-1</td>\n",
       "      <td>-1</td>\n",
       "      <td>1</td>\n",
       "      <td>-1</td>\n",
       "      <td>1</td>\n",
       "      <td>-1</td>\n",
       "      <td>1</td>\n",
       "      <td>-1</td>\n",
       "    </tr>\n",
       "    <tr>\n",
       "      <th>4</th>\n",
       "      <td>1</td>\n",
       "      <td>0</td>\n",
       "      <td>-1</td>\n",
       "      <td>1</td>\n",
       "      <td>1</td>\n",
       "      <td>-1</td>\n",
       "      <td>1</td>\n",
       "      <td>1</td>\n",
       "      <td>-1</td>\n",
       "      <td>1</td>\n",
       "      <td>...</td>\n",
       "      <td>-1</td>\n",
       "      <td>1</td>\n",
       "      <td>-1</td>\n",
       "      <td>-1</td>\n",
       "      <td>0</td>\n",
       "      <td>-1</td>\n",
       "      <td>1</td>\n",
       "      <td>1</td>\n",
       "      <td>1</td>\n",
       "      <td>1</td>\n",
       "    </tr>\n",
       "  </tbody>\n",
       "</table>\n",
       "<p>5 rows × 31 columns</p>\n",
       "</div>"
      ],
      "text/plain": [
       "   having_IPhaving_IP_Address  URLURL_Length  Shortining_Service  \\\n",
       "0                          -1              1                   1   \n",
       "1                           1              1                   1   \n",
       "2                           1              0                   1   \n",
       "3                           1              0                   1   \n",
       "4                           1              0                  -1   \n",
       "\n",
       "   having_At_Symbol  double_slash_redirecting  Prefix_Suffix  \\\n",
       "0                 1                        -1             -1   \n",
       "1                 1                         1             -1   \n",
       "2                 1                         1             -1   \n",
       "3                 1                         1             -1   \n",
       "4                 1                         1             -1   \n",
       "\n",
       "   having_Sub_Domain  SSLfinal_State  Domain_registeration_length  Favicon  \\\n",
       "0                 -1              -1                           -1        1   \n",
       "1                  0               1                           -1        1   \n",
       "2                 -1              -1                           -1        1   \n",
       "3                 -1              -1                            1        1   \n",
       "4                  1               1                           -1        1   \n",
       "\n",
       "    ...    popUpWidnow  Iframe  age_of_domain  DNSRecord  web_traffic  \\\n",
       "0   ...              1       1             -1         -1           -1   \n",
       "1   ...              1       1             -1         -1            0   \n",
       "2   ...              1       1              1         -1            1   \n",
       "3   ...              1       1             -1         -1            1   \n",
       "4   ...             -1       1             -1         -1            0   \n",
       "\n",
       "   Page_Rank  Google_Index  Links_pointing_to_page  Statistical_report  Result  \n",
       "0         -1             1                       1                  -1      -1  \n",
       "1         -1             1                       1                   1      -1  \n",
       "2         -1             1                       0                  -1      -1  \n",
       "3         -1             1                      -1                   1      -1  \n",
       "4         -1             1                       1                   1       1  \n",
       "\n",
       "[5 rows x 31 columns]"
      ]
     },
     "execution_count": 3,
     "metadata": {},
     "output_type": "execute_result"
    }
   ],
   "source": [
    "print(data_raw.shape)\n",
    "\n",
    "data_raw.head()"
   ]
  },
  {
   "cell_type": "code",
   "execution_count": 65,
   "metadata": {},
   "outputs": [
    {
     "data": {
      "text/html": [
       "<div>\n",
       "<style>\n",
       "    .dataframe thead tr:only-child th {\n",
       "        text-align: right;\n",
       "    }\n",
       "\n",
       "    .dataframe thead th {\n",
       "        text-align: left;\n",
       "    }\n",
       "\n",
       "    .dataframe tbody tr th {\n",
       "        vertical-align: top;\n",
       "    }\n",
       "</style>\n",
       "<table border=\"1\" class=\"dataframe\">\n",
       "  <thead>\n",
       "    <tr style=\"text-align: right;\">\n",
       "      <th></th>\n",
       "      <th>having_IPhaving_IP_Address</th>\n",
       "      <th>URLURL_Length</th>\n",
       "      <th>Shortining_Service</th>\n",
       "      <th>having_At_Symbol</th>\n",
       "      <th>double_slash_redirecting</th>\n",
       "      <th>Prefix_Suffix</th>\n",
       "      <th>having_Sub_Domain</th>\n",
       "      <th>SSLfinal_State</th>\n",
       "      <th>Domain_registeration_length</th>\n",
       "      <th>Favicon</th>\n",
       "      <th>...</th>\n",
       "      <th>popUpWidnow</th>\n",
       "      <th>Iframe</th>\n",
       "      <th>age_of_domain</th>\n",
       "      <th>DNSRecord</th>\n",
       "      <th>web_traffic</th>\n",
       "      <th>Page_Rank</th>\n",
       "      <th>Google_Index</th>\n",
       "      <th>Links_pointing_to_page</th>\n",
       "      <th>Statistical_report</th>\n",
       "      <th>Result</th>\n",
       "    </tr>\n",
       "  </thead>\n",
       "  <tbody>\n",
       "    <tr>\n",
       "      <th>count</th>\n",
       "      <td>11055.000000</td>\n",
       "      <td>11055.000000</td>\n",
       "      <td>11055.000000</td>\n",
       "      <td>11055.000000</td>\n",
       "      <td>11055.000000</td>\n",
       "      <td>11055.000000</td>\n",
       "      <td>11055.000000</td>\n",
       "      <td>11055.000000</td>\n",
       "      <td>11055.000000</td>\n",
       "      <td>11055.000000</td>\n",
       "      <td>...</td>\n",
       "      <td>11055.000000</td>\n",
       "      <td>11055.000000</td>\n",
       "      <td>11055.000000</td>\n",
       "      <td>11055.000000</td>\n",
       "      <td>11055.000000</td>\n",
       "      <td>11055.000000</td>\n",
       "      <td>11055.000000</td>\n",
       "      <td>11055.000000</td>\n",
       "      <td>11055.000000</td>\n",
       "      <td>11055.000000</td>\n",
       "    </tr>\n",
       "    <tr>\n",
       "      <th>mean</th>\n",
       "      <td>0.313795</td>\n",
       "      <td>-0.633198</td>\n",
       "      <td>0.738761</td>\n",
       "      <td>0.700588</td>\n",
       "      <td>0.741474</td>\n",
       "      <td>-0.734962</td>\n",
       "      <td>0.063953</td>\n",
       "      <td>0.250927</td>\n",
       "      <td>-0.336771</td>\n",
       "      <td>0.628584</td>\n",
       "      <td>...</td>\n",
       "      <td>0.613388</td>\n",
       "      <td>0.816915</td>\n",
       "      <td>0.061239</td>\n",
       "      <td>0.377114</td>\n",
       "      <td>0.287291</td>\n",
       "      <td>-0.483673</td>\n",
       "      <td>0.721574</td>\n",
       "      <td>0.344007</td>\n",
       "      <td>0.719584</td>\n",
       "      <td>0.113885</td>\n",
       "    </tr>\n",
       "    <tr>\n",
       "      <th>std</th>\n",
       "      <td>0.949534</td>\n",
       "      <td>0.766095</td>\n",
       "      <td>0.673998</td>\n",
       "      <td>0.713598</td>\n",
       "      <td>0.671011</td>\n",
       "      <td>0.678139</td>\n",
       "      <td>0.817518</td>\n",
       "      <td>0.911892</td>\n",
       "      <td>0.941629</td>\n",
       "      <td>0.777777</td>\n",
       "      <td>...</td>\n",
       "      <td>0.789818</td>\n",
       "      <td>0.576784</td>\n",
       "      <td>0.998168</td>\n",
       "      <td>0.926209</td>\n",
       "      <td>0.827733</td>\n",
       "      <td>0.875289</td>\n",
       "      <td>0.692369</td>\n",
       "      <td>0.569944</td>\n",
       "      <td>0.694437</td>\n",
       "      <td>0.993539</td>\n",
       "    </tr>\n",
       "    <tr>\n",
       "      <th>min</th>\n",
       "      <td>-1.000000</td>\n",
       "      <td>-1.000000</td>\n",
       "      <td>-1.000000</td>\n",
       "      <td>-1.000000</td>\n",
       "      <td>-1.000000</td>\n",
       "      <td>-1.000000</td>\n",
       "      <td>-1.000000</td>\n",
       "      <td>-1.000000</td>\n",
       "      <td>-1.000000</td>\n",
       "      <td>-1.000000</td>\n",
       "      <td>...</td>\n",
       "      <td>-1.000000</td>\n",
       "      <td>-1.000000</td>\n",
       "      <td>-1.000000</td>\n",
       "      <td>-1.000000</td>\n",
       "      <td>-1.000000</td>\n",
       "      <td>-1.000000</td>\n",
       "      <td>-1.000000</td>\n",
       "      <td>-1.000000</td>\n",
       "      <td>-1.000000</td>\n",
       "      <td>-1.000000</td>\n",
       "    </tr>\n",
       "    <tr>\n",
       "      <th>25%</th>\n",
       "      <td>-1.000000</td>\n",
       "      <td>-1.000000</td>\n",
       "      <td>1.000000</td>\n",
       "      <td>1.000000</td>\n",
       "      <td>1.000000</td>\n",
       "      <td>-1.000000</td>\n",
       "      <td>-1.000000</td>\n",
       "      <td>-1.000000</td>\n",
       "      <td>-1.000000</td>\n",
       "      <td>1.000000</td>\n",
       "      <td>...</td>\n",
       "      <td>1.000000</td>\n",
       "      <td>1.000000</td>\n",
       "      <td>-1.000000</td>\n",
       "      <td>-1.000000</td>\n",
       "      <td>0.000000</td>\n",
       "      <td>-1.000000</td>\n",
       "      <td>1.000000</td>\n",
       "      <td>0.000000</td>\n",
       "      <td>1.000000</td>\n",
       "      <td>-1.000000</td>\n",
       "    </tr>\n",
       "    <tr>\n",
       "      <th>50%</th>\n",
       "      <td>1.000000</td>\n",
       "      <td>-1.000000</td>\n",
       "      <td>1.000000</td>\n",
       "      <td>1.000000</td>\n",
       "      <td>1.000000</td>\n",
       "      <td>-1.000000</td>\n",
       "      <td>0.000000</td>\n",
       "      <td>1.000000</td>\n",
       "      <td>-1.000000</td>\n",
       "      <td>1.000000</td>\n",
       "      <td>...</td>\n",
       "      <td>1.000000</td>\n",
       "      <td>1.000000</td>\n",
       "      <td>1.000000</td>\n",
       "      <td>1.000000</td>\n",
       "      <td>1.000000</td>\n",
       "      <td>-1.000000</td>\n",
       "      <td>1.000000</td>\n",
       "      <td>0.000000</td>\n",
       "      <td>1.000000</td>\n",
       "      <td>1.000000</td>\n",
       "    </tr>\n",
       "    <tr>\n",
       "      <th>75%</th>\n",
       "      <td>1.000000</td>\n",
       "      <td>-1.000000</td>\n",
       "      <td>1.000000</td>\n",
       "      <td>1.000000</td>\n",
       "      <td>1.000000</td>\n",
       "      <td>-1.000000</td>\n",
       "      <td>1.000000</td>\n",
       "      <td>1.000000</td>\n",
       "      <td>1.000000</td>\n",
       "      <td>1.000000</td>\n",
       "      <td>...</td>\n",
       "      <td>1.000000</td>\n",
       "      <td>1.000000</td>\n",
       "      <td>1.000000</td>\n",
       "      <td>1.000000</td>\n",
       "      <td>1.000000</td>\n",
       "      <td>1.000000</td>\n",
       "      <td>1.000000</td>\n",
       "      <td>1.000000</td>\n",
       "      <td>1.000000</td>\n",
       "      <td>1.000000</td>\n",
       "    </tr>\n",
       "    <tr>\n",
       "      <th>max</th>\n",
       "      <td>1.000000</td>\n",
       "      <td>1.000000</td>\n",
       "      <td>1.000000</td>\n",
       "      <td>1.000000</td>\n",
       "      <td>1.000000</td>\n",
       "      <td>1.000000</td>\n",
       "      <td>1.000000</td>\n",
       "      <td>1.000000</td>\n",
       "      <td>1.000000</td>\n",
       "      <td>1.000000</td>\n",
       "      <td>...</td>\n",
       "      <td>1.000000</td>\n",
       "      <td>1.000000</td>\n",
       "      <td>1.000000</td>\n",
       "      <td>1.000000</td>\n",
       "      <td>1.000000</td>\n",
       "      <td>1.000000</td>\n",
       "      <td>1.000000</td>\n",
       "      <td>1.000000</td>\n",
       "      <td>1.000000</td>\n",
       "      <td>1.000000</td>\n",
       "    </tr>\n",
       "  </tbody>\n",
       "</table>\n",
       "<p>8 rows × 31 columns</p>\n",
       "</div>"
      ],
      "text/plain": [
       "       having_IPhaving_IP_Address  URLURL_Length  Shortining_Service  \\\n",
       "count                11055.000000   11055.000000        11055.000000   \n",
       "mean                     0.313795      -0.633198            0.738761   \n",
       "std                      0.949534       0.766095            0.673998   \n",
       "min                     -1.000000      -1.000000           -1.000000   \n",
       "25%                     -1.000000      -1.000000            1.000000   \n",
       "50%                      1.000000      -1.000000            1.000000   \n",
       "75%                      1.000000      -1.000000            1.000000   \n",
       "max                      1.000000       1.000000            1.000000   \n",
       "\n",
       "       having_At_Symbol  double_slash_redirecting  Prefix_Suffix  \\\n",
       "count      11055.000000              11055.000000   11055.000000   \n",
       "mean           0.700588                  0.741474      -0.734962   \n",
       "std            0.713598                  0.671011       0.678139   \n",
       "min           -1.000000                 -1.000000      -1.000000   \n",
       "25%            1.000000                  1.000000      -1.000000   \n",
       "50%            1.000000                  1.000000      -1.000000   \n",
       "75%            1.000000                  1.000000      -1.000000   \n",
       "max            1.000000                  1.000000       1.000000   \n",
       "\n",
       "       having_Sub_Domain  SSLfinal_State  Domain_registeration_length  \\\n",
       "count       11055.000000    11055.000000                 11055.000000   \n",
       "mean            0.063953        0.250927                    -0.336771   \n",
       "std             0.817518        0.911892                     0.941629   \n",
       "min            -1.000000       -1.000000                    -1.000000   \n",
       "25%            -1.000000       -1.000000                    -1.000000   \n",
       "50%             0.000000        1.000000                    -1.000000   \n",
       "75%             1.000000        1.000000                     1.000000   \n",
       "max             1.000000        1.000000                     1.000000   \n",
       "\n",
       "            Favicon      ...        popUpWidnow        Iframe  age_of_domain  \\\n",
       "count  11055.000000      ...       11055.000000  11055.000000   11055.000000   \n",
       "mean       0.628584      ...           0.613388      0.816915       0.061239   \n",
       "std        0.777777      ...           0.789818      0.576784       0.998168   \n",
       "min       -1.000000      ...          -1.000000     -1.000000      -1.000000   \n",
       "25%        1.000000      ...           1.000000      1.000000      -1.000000   \n",
       "50%        1.000000      ...           1.000000      1.000000       1.000000   \n",
       "75%        1.000000      ...           1.000000      1.000000       1.000000   \n",
       "max        1.000000      ...           1.000000      1.000000       1.000000   \n",
       "\n",
       "          DNSRecord   web_traffic     Page_Rank  Google_Index  \\\n",
       "count  11055.000000  11055.000000  11055.000000  11055.000000   \n",
       "mean       0.377114      0.287291     -0.483673      0.721574   \n",
       "std        0.926209      0.827733      0.875289      0.692369   \n",
       "min       -1.000000     -1.000000     -1.000000     -1.000000   \n",
       "25%       -1.000000      0.000000     -1.000000      1.000000   \n",
       "50%        1.000000      1.000000     -1.000000      1.000000   \n",
       "75%        1.000000      1.000000      1.000000      1.000000   \n",
       "max        1.000000      1.000000      1.000000      1.000000   \n",
       "\n",
       "       Links_pointing_to_page  Statistical_report        Result  \n",
       "count            11055.000000        11055.000000  11055.000000  \n",
       "mean                 0.344007            0.719584      0.113885  \n",
       "std                  0.569944            0.694437      0.993539  \n",
       "min                 -1.000000           -1.000000     -1.000000  \n",
       "25%                  0.000000            1.000000     -1.000000  \n",
       "50%                  0.000000            1.000000      1.000000  \n",
       "75%                  1.000000            1.000000      1.000000  \n",
       "max                  1.000000            1.000000      1.000000  \n",
       "\n",
       "[8 rows x 31 columns]"
      ]
     },
     "execution_count": 65,
     "metadata": {},
     "output_type": "execute_result"
    }
   ],
   "source": [
    "data_raw.describe()"
   ]
  },
  {
   "cell_type": "code",
   "execution_count": 10,
   "metadata": {},
   "outputs": [
    {
     "name": "stdout",
     "output_type": "stream",
     "text": [
      "Result\n",
      "-1    4898\n",
      " 1    6157\n",
      "dtype: int64\n"
     ]
    },
    {
     "data": {
      "text/plain": [
       "<matplotlib.axes._subplots.AxesSubplot at 0x192be6dff28>"
      ]
     },
     "execution_count": 10,
     "metadata": {},
     "output_type": "execute_result"
    },
    {
     "data": {
      "image/png": "[encoded data removed]",
      "text/plain": [
       "<matplotlib.figure.Figure at 0x192be5db438>"
      ]
     },
     "metadata": {},
     "output_type": "display_data"
    }
   ],
   "source": [
    "##Distribution of Result Variable\n",
    "\n",
    "print(data_raw.groupby('Result').size())\n",
    "sns.countplot(data_raw.Result,label=\"Count\")"
   ]
  },
  {
   "cell_type": "code",
   "execution_count": 3,
   "metadata": {},
   "outputs": [
    {
     "data": {
      "text/html": [
       "<div>\n",
       "<style>\n",
       "    .dataframe thead tr:only-child th {\n",
       "        text-align: right;\n",
       "    }\n",
       "\n",
       "    .dataframe thead th {\n",
       "        text-align: left;\n",
       "    }\n",
       "\n",
       "    .dataframe tbody tr th {\n",
       "        vertical-align: top;\n",
       "    }\n",
       "</style>\n",
       "<table border=\"1\" class=\"dataframe\">\n",
       "  <thead>\n",
       "    <tr style=\"text-align: right;\">\n",
       "      <th></th>\n",
       "      <th>having_IPhaving_IP_Address</th>\n",
       "      <th>URLURL_Length</th>\n",
       "      <th>Shortining_Service</th>\n",
       "      <th>having_At_Symbol</th>\n",
       "      <th>double_slash_redirecting</th>\n",
       "      <th>Prefix_Suffix</th>\n",
       "      <th>having_Sub_Domain</th>\n",
       "      <th>SSLfinal_State</th>\n",
       "      <th>Domain_registeration_length</th>\n",
       "      <th>Favicon</th>\n",
       "      <th>...</th>\n",
       "      <th>RightClick</th>\n",
       "      <th>popUpWidnow</th>\n",
       "      <th>Iframe</th>\n",
       "      <th>age_of_domain</th>\n",
       "      <th>DNSRecord</th>\n",
       "      <th>web_traffic</th>\n",
       "      <th>Page_Rank</th>\n",
       "      <th>Google_Index</th>\n",
       "      <th>Links_pointing_to_page</th>\n",
       "      <th>Statistical_report</th>\n",
       "    </tr>\n",
       "  </thead>\n",
       "  <tbody>\n",
       "    <tr>\n",
       "      <th>0</th>\n",
       "      <td>-1</td>\n",
       "      <td>1</td>\n",
       "      <td>1</td>\n",
       "      <td>1</td>\n",
       "      <td>-1</td>\n",
       "      <td>-1</td>\n",
       "      <td>-1</td>\n",
       "      <td>-1</td>\n",
       "      <td>-1</td>\n",
       "      <td>1</td>\n",
       "      <td>...</td>\n",
       "      <td>1</td>\n",
       "      <td>1</td>\n",
       "      <td>1</td>\n",
       "      <td>-1</td>\n",
       "      <td>-1</td>\n",
       "      <td>-1</td>\n",
       "      <td>-1</td>\n",
       "      <td>1</td>\n",
       "      <td>1</td>\n",
       "      <td>-1</td>\n",
       "    </tr>\n",
       "    <tr>\n",
       "      <th>1</th>\n",
       "      <td>1</td>\n",
       "      <td>1</td>\n",
       "      <td>1</td>\n",
       "      <td>1</td>\n",
       "      <td>1</td>\n",
       "      <td>-1</td>\n",
       "      <td>0</td>\n",
       "      <td>1</td>\n",
       "      <td>-1</td>\n",
       "      <td>1</td>\n",
       "      <td>...</td>\n",
       "      <td>1</td>\n",
       "      <td>1</td>\n",
       "      <td>1</td>\n",
       "      <td>-1</td>\n",
       "      <td>-1</td>\n",
       "      <td>0</td>\n",
       "      <td>-1</td>\n",
       "      <td>1</td>\n",
       "      <td>1</td>\n",
       "      <td>1</td>\n",
       "    </tr>\n",
       "    <tr>\n",
       "      <th>2</th>\n",
       "      <td>1</td>\n",
       "      <td>0</td>\n",
       "      <td>1</td>\n",
       "      <td>1</td>\n",
       "      <td>1</td>\n",
       "      <td>-1</td>\n",
       "      <td>-1</td>\n",
       "      <td>-1</td>\n",
       "      <td>-1</td>\n",
       "      <td>1</td>\n",
       "      <td>...</td>\n",
       "      <td>1</td>\n",
       "      <td>1</td>\n",
       "      <td>1</td>\n",
       "      <td>1</td>\n",
       "      <td>-1</td>\n",
       "      <td>1</td>\n",
       "      <td>-1</td>\n",
       "      <td>1</td>\n",
       "      <td>0</td>\n",
       "      <td>-1</td>\n",
       "    </tr>\n",
       "    <tr>\n",
       "      <th>3</th>\n",
       "      <td>1</td>\n",
       "      <td>0</td>\n",
       "      <td>1</td>\n",
       "      <td>1</td>\n",
       "      <td>1</td>\n",
       "      <td>-1</td>\n",
       "      <td>-1</td>\n",
       "      <td>-1</td>\n",
       "      <td>1</td>\n",
       "      <td>1</td>\n",
       "      <td>...</td>\n",
       "      <td>1</td>\n",
       "      <td>1</td>\n",
       "      <td>1</td>\n",
       "      <td>-1</td>\n",
       "      <td>-1</td>\n",
       "      <td>1</td>\n",
       "      <td>-1</td>\n",
       "      <td>1</td>\n",
       "      <td>-1</td>\n",
       "      <td>1</td>\n",
       "    </tr>\n",
       "    <tr>\n",
       "      <th>4</th>\n",
       "      <td>1</td>\n",
       "      <td>0</td>\n",
       "      <td>-1</td>\n",
       "      <td>1</td>\n",
       "      <td>1</td>\n",
       "      <td>-1</td>\n",
       "      <td>1</td>\n",
       "      <td>1</td>\n",
       "      <td>-1</td>\n",
       "      <td>1</td>\n",
       "      <td>...</td>\n",
       "      <td>1</td>\n",
       "      <td>-1</td>\n",
       "      <td>1</td>\n",
       "      <td>-1</td>\n",
       "      <td>-1</td>\n",
       "      <td>0</td>\n",
       "      <td>-1</td>\n",
       "      <td>1</td>\n",
       "      <td>1</td>\n",
       "      <td>1</td>\n",
       "    </tr>\n",
       "  </tbody>\n",
       "</table>\n",
       "<p>5 rows × 30 columns</p>\n",
       "</div>"
      ],
      "text/plain": [
       "   having_IPhaving_IP_Address  URLURL_Length  Shortining_Service  \\\n",
       "0                          -1              1                   1   \n",
       "1                           1              1                   1   \n",
       "2                           1              0                   1   \n",
       "3                           1              0                   1   \n",
       "4                           1              0                  -1   \n",
       "\n",
       "   having_At_Symbol  double_slash_redirecting  Prefix_Suffix  \\\n",
       "0                 1                        -1             -1   \n",
       "1                 1                         1             -1   \n",
       "2                 1                         1             -1   \n",
       "3                 1                         1             -1   \n",
       "4                 1                         1             -1   \n",
       "\n",
       "   having_Sub_Domain  SSLfinal_State  Domain_registeration_length  Favicon  \\\n",
       "0                 -1              -1                           -1        1   \n",
       "1                  0               1                           -1        1   \n",
       "2                 -1              -1                           -1        1   \n",
       "3                 -1              -1                            1        1   \n",
       "4                  1               1                           -1        1   \n",
       "\n",
       "          ...          RightClick  popUpWidnow  Iframe  age_of_domain  \\\n",
       "0         ...                   1            1       1             -1   \n",
       "1         ...                   1            1       1             -1   \n",
       "2         ...                   1            1       1              1   \n",
       "3         ...                   1            1       1             -1   \n",
       "4         ...                   1           -1       1             -1   \n",
       "\n",
       "   DNSRecord  web_traffic  Page_Rank  Google_Index  Links_pointing_to_page  \\\n",
       "0         -1           -1         -1             1                       1   \n",
       "1         -1            0         -1             1                       1   \n",
       "2         -1            1         -1             1                       0   \n",
       "3         -1            1         -1             1                      -1   \n",
       "4         -1            0         -1             1                       1   \n",
       "\n",
       "   Statistical_report  \n",
       "0                  -1  \n",
       "1                   1  \n",
       "2                  -1  \n",
       "3                   1  \n",
       "4                   1  \n",
       "\n",
       "[5 rows x 30 columns]"
      ]
     },
     "execution_count": 3,
     "metadata": {},
     "output_type": "execute_result"
    }
   ],
   "source": [
    "#Separating response (class) column from other variables\n",
    "\n",
    "X=data_raw.drop('Result',axis=1) #Predictors\n",
    "y=data_raw['Result'] #Response\n",
    "X.head()"
   ]
  },
  {
   "cell_type": "code",
   "execution_count": 4,
   "metadata": {
    "collapsed": true
   },
   "outputs": [],
   "source": [
    "#Splitting dataset into training and testing\n",
    "\n",
    "#from sklearn.model_selection import train_test_split\n",
    "X_train, X_test, y_train, y_test = train_test_split(X, y, test_size=0.3, random_state=42,shuffle = True)"
   ]
  },
  {
   "cell_type": "code",
   "execution_count": 6,
   "metadata": {},
   "outputs": [
    {
     "data": {
      "text/html": [
       "<div>\n",
       "<style>\n",
       "    .dataframe thead tr:only-child th {\n",
       "        text-align: right;\n",
       "    }\n",
       "\n",
       "    .dataframe thead th {\n",
       "        text-align: left;\n",
       "    }\n",
       "\n",
       "    .dataframe tbody tr th {\n",
       "        vertical-align: top;\n",
       "    }\n",
       "</style>\n",
       "<table border=\"1\" class=\"dataframe\">\n",
       "  <thead>\n",
       "    <tr style=\"text-align: right;\">\n",
       "      <th></th>\n",
       "      <th>having_IPhaving_IP_Address</th>\n",
       "      <th>URLURL_Length</th>\n",
       "      <th>Shortining_Service</th>\n",
       "      <th>having_At_Symbol</th>\n",
       "      <th>double_slash_redirecting</th>\n",
       "      <th>Prefix_Suffix</th>\n",
       "      <th>having_Sub_Domain</th>\n",
       "      <th>SSLfinal_State</th>\n",
       "      <th>Domain_registeration_length</th>\n",
       "      <th>Favicon</th>\n",
       "      <th>...</th>\n",
       "      <th>RightClick</th>\n",
       "      <th>popUpWidnow</th>\n",
       "      <th>Iframe</th>\n",
       "      <th>age_of_domain</th>\n",
       "      <th>DNSRecord</th>\n",
       "      <th>web_traffic</th>\n",
       "      <th>Page_Rank</th>\n",
       "      <th>Google_Index</th>\n",
       "      <th>Links_pointing_to_page</th>\n",
       "      <th>Statistical_report</th>\n",
       "    </tr>\n",
       "  </thead>\n",
       "  <tbody>\n",
       "    <tr>\n",
       "      <th>10168</th>\n",
       "      <td>-1</td>\n",
       "      <td>-1</td>\n",
       "      <td>-1</td>\n",
       "      <td>-1</td>\n",
       "      <td>-1</td>\n",
       "      <td>-1</td>\n",
       "      <td>0</td>\n",
       "      <td>-1</td>\n",
       "      <td>-1</td>\n",
       "      <td>-1</td>\n",
       "      <td>...</td>\n",
       "      <td>1</td>\n",
       "      <td>-1</td>\n",
       "      <td>1</td>\n",
       "      <td>1</td>\n",
       "      <td>-1</td>\n",
       "      <td>0</td>\n",
       "      <td>-1</td>\n",
       "      <td>1</td>\n",
       "      <td>1</td>\n",
       "      <td>1</td>\n",
       "    </tr>\n",
       "    <tr>\n",
       "      <th>10167</th>\n",
       "      <td>-1</td>\n",
       "      <td>-1</td>\n",
       "      <td>1</td>\n",
       "      <td>1</td>\n",
       "      <td>1</td>\n",
       "      <td>-1</td>\n",
       "      <td>1</td>\n",
       "      <td>-1</td>\n",
       "      <td>-1</td>\n",
       "      <td>-1</td>\n",
       "      <td>...</td>\n",
       "      <td>1</td>\n",
       "      <td>-1</td>\n",
       "      <td>-1</td>\n",
       "      <td>1</td>\n",
       "      <td>1</td>\n",
       "      <td>1</td>\n",
       "      <td>-1</td>\n",
       "      <td>1</td>\n",
       "      <td>-1</td>\n",
       "      <td>1</td>\n",
       "    </tr>\n",
       "    <tr>\n",
       "      <th>2115</th>\n",
       "      <td>1</td>\n",
       "      <td>-1</td>\n",
       "      <td>1</td>\n",
       "      <td>1</td>\n",
       "      <td>1</td>\n",
       "      <td>-1</td>\n",
       "      <td>0</td>\n",
       "      <td>-1</td>\n",
       "      <td>1</td>\n",
       "      <td>1</td>\n",
       "      <td>...</td>\n",
       "      <td>1</td>\n",
       "      <td>1</td>\n",
       "      <td>1</td>\n",
       "      <td>-1</td>\n",
       "      <td>1</td>\n",
       "      <td>-1</td>\n",
       "      <td>-1</td>\n",
       "      <td>1</td>\n",
       "      <td>0</td>\n",
       "      <td>1</td>\n",
       "    </tr>\n",
       "    <tr>\n",
       "      <th>1699</th>\n",
       "      <td>1</td>\n",
       "      <td>-1</td>\n",
       "      <td>1</td>\n",
       "      <td>1</td>\n",
       "      <td>1</td>\n",
       "      <td>-1</td>\n",
       "      <td>-1</td>\n",
       "      <td>-1</td>\n",
       "      <td>-1</td>\n",
       "      <td>1</td>\n",
       "      <td>...</td>\n",
       "      <td>1</td>\n",
       "      <td>1</td>\n",
       "      <td>1</td>\n",
       "      <td>-1</td>\n",
       "      <td>1</td>\n",
       "      <td>0</td>\n",
       "      <td>-1</td>\n",
       "      <td>-1</td>\n",
       "      <td>0</td>\n",
       "      <td>1</td>\n",
       "    </tr>\n",
       "    <tr>\n",
       "      <th>1379</th>\n",
       "      <td>1</td>\n",
       "      <td>-1</td>\n",
       "      <td>1</td>\n",
       "      <td>1</td>\n",
       "      <td>1</td>\n",
       "      <td>-1</td>\n",
       "      <td>1</td>\n",
       "      <td>1</td>\n",
       "      <td>-1</td>\n",
       "      <td>1</td>\n",
       "      <td>...</td>\n",
       "      <td>1</td>\n",
       "      <td>1</td>\n",
       "      <td>1</td>\n",
       "      <td>1</td>\n",
       "      <td>-1</td>\n",
       "      <td>1</td>\n",
       "      <td>-1</td>\n",
       "      <td>1</td>\n",
       "      <td>0</td>\n",
       "      <td>1</td>\n",
       "    </tr>\n",
       "  </tbody>\n",
       "</table>\n",
       "<p>5 rows × 30 columns</p>\n",
       "</div>"
      ],
      "text/plain": [
       "       having_IPhaving_IP_Address  URLURL_Length  Shortining_Service  \\\n",
       "10168                          -1             -1                  -1   \n",
       "10167                          -1             -1                   1   \n",
       "2115                            1             -1                   1   \n",
       "1699                            1             -1                   1   \n",
       "1379                            1             -1                   1   \n",
       "\n",
       "       having_At_Symbol  double_slash_redirecting  Prefix_Suffix  \\\n",
       "10168                -1                        -1             -1   \n",
       "10167                 1                         1             -1   \n",
       "2115                  1                         1             -1   \n",
       "1699                  1                         1             -1   \n",
       "1379                  1                         1             -1   \n",
       "\n",
       "       having_Sub_Domain  SSLfinal_State  Domain_registeration_length  \\\n",
       "10168                  0              -1                           -1   \n",
       "10167                  1              -1                           -1   \n",
       "2115                   0              -1                            1   \n",
       "1699                  -1              -1                           -1   \n",
       "1379                   1               1                           -1   \n",
       "\n",
       "       Favicon         ...          RightClick  popUpWidnow  Iframe  \\\n",
       "10168       -1         ...                   1           -1       1   \n",
       "10167       -1         ...                   1           -1      -1   \n",
       "2115         1         ...                   1            1       1   \n",
       "1699         1         ...                   1            1       1   \n",
       "1379         1         ...                   1            1       1   \n",
       "\n",
       "       age_of_domain  DNSRecord  web_traffic  Page_Rank  Google_Index  \\\n",
       "10168              1         -1            0         -1             1   \n",
       "10167              1          1            1         -1             1   \n",
       "2115              -1          1           -1         -1             1   \n",
       "1699              -1          1            0         -1            -1   \n",
       "1379               1         -1            1         -1             1   \n",
       "\n",
       "       Links_pointing_to_page  Statistical_report  \n",
       "10168                       1                   1  \n",
       "10167                      -1                   1  \n",
       "2115                        0                   1  \n",
       "1699                        0                   1  \n",
       "1379                        0                   1  \n",
       "\n",
       "[5 rows x 30 columns]"
      ]
     },
     "execution_count": 6,
     "metadata": {},
     "output_type": "execute_result"
    }
   ],
   "source": [
    "X_train.head()"
   ]
  },
  {
   "cell_type": "markdown",
   "metadata": {},
   "source": [
    "# Important functions for Plotting Learning Curve and Getting best parameter for classifier"
   ]
  },
  {
   "cell_type": "code",
   "execution_count": 5,
   "metadata": {
    "collapsed": true
   },
   "outputs": [],
   "source": [
    "###Function for plotting learning curve\n",
    "\n",
    "def plot_learning_curve(estimator, title, X, y, ylim=None, cv=None,\n",
    "                        n_jobs=1, train_sizes=np.linspace(.1, 1.0, 5)):\n",
    "    \"\"\"\n",
    "    Generate a simple plot of the test and training learning curve.\n",
    "\n",
    "    Parameters\n",
    "    ----------\n",
    "    estimator : object type that implements the \"fit\" and \"predict\" methods\n",
    "        An object of that type which is cloned for each validation.\n",
    "\n",
    "    title : string\n",
    "        Title for the chart.\n",
    "\n",
    "    X : array-like, shape (n_samples, n_features)\n",
    "        Training vector, where n_samples is the number of samples and\n",
    "        n_features is the number of features.\n",
    "\n",
    "    y : array-like, shape (n_samples) or (n_samples, n_features), optional\n",
    "        Target relative to X for classification or regression;\n",
    "        None for unsupervised learning.\n",
    "\n",
    "    ylim : tuple, shape (ymin, ymax), optional\n",
    "        Defines minimum and maximum yvalues plotted.\n",
    "\n",
    "    cv : int, cross-validation generator or an iterable, optional\n",
    "        Determines the cross-validation splitting strategy.\n",
    "        Possible inputs for cv are:\n",
    "          - None, to use the default 3-fold cross-validation,\n",
    "          - integer, to specify the number of folds.\n",
    "          - An object to be used as a cross-validation generator.\n",
    "          - An iterable yielding train/test splits.\n",
    "\n",
    "        For integer/None inputs, if ``y`` is binary or multiclass,\n",
    "        :class:`StratifiedKFold` used. If the estimator is not a classifier\n",
    "        or if ``y`` is neither binary nor multiclass, :class:`KFold` is used.\n",
    "\n",
    "        Refer :ref:`User Guide <cross_validation>` for the various\n",
    "        cross-validators that can be used here.\n",
    "\n",
    "    n_jobs : integer, optional\n",
    "        Number of jobs to run in parallel (default 1).\n",
    "    \"\"\"\n",
    "    plt.figure()\n",
    "    plt.title(title)\n",
    "    if ylim is not None:\n",
    "        plt.ylim(*ylim)\n",
    "    plt.xlabel(\"Training examples\")\n",
    "    plt.ylabel(\"Score\")\n",
    "    train_sizes, train_scores, test_scores = learning_curve(\n",
    "        estimator, X, y, cv=cv, n_jobs=n_jobs, train_sizes=train_sizes)\n",
    "    train_scores_mean = np.mean(train_scores, axis=1)\n",
    "    train_scores_std = np.std(train_scores, axis=1)\n",
    "    test_scores_mean = np.mean(test_scores, axis=1)\n",
    "    test_scores_std = np.std(test_scores, axis=1)\n",
    "    plt.grid()\n",
    "\n",
    "    plt.fill_between(train_sizes, train_scores_mean - train_scores_std,\n",
    "                     train_scores_mean + train_scores_std, alpha=0.1,\n",
    "                     color=\"r\")\n",
    "    plt.fill_between(train_sizes, test_scores_mean - test_scores_std,\n",
    "                     test_scores_mean + test_scores_std, alpha=0.1, color=\"g\")\n",
    "    plt.plot(train_sizes, train_scores_mean, 'o-', color=\"r\",\n",
    "             label=\"Training score\")\n",
    "    plt.plot(train_sizes, test_scores_mean, 'o-', color=\"g\",\n",
    "             label=\"Cross-validation score\")\n",
    "\n",
    "    plt.legend(loc=\"best\")\n",
    "    return plt"
   ]
  },
  {
   "cell_type": "code",
   "execution_count": 6,
   "metadata": {
    "collapsed": true
   },
   "outputs": [],
   "source": [
    "##Creating function to get best parameters for the classifier\n",
    "def getParametersFromGridSearchCV(X_train, y_train, classifier, par_grid):\n",
    "\n",
    "    kfold=StratifiedKFold(n_splits=10,shuffle=True,random_state=0)\n",
    "    \n",
    "    model = GridSearchCV(estimator = classifier, param_grid=par_grid, cv= kfold, return_train_score=True, n_jobs=4)\n",
    "    model.fit(X_train, y_train)\n",
    "    print(model.best_params_)\n",
    "    print(model.best_score_)\n",
    "    return model.cv_results_[\"mean_train_score\"], model.cv_results_[\"mean_test_score\"], model.cv_results_[\"mean_fit_time\"], model.cv_results_[\"params\"]"
   ]
  },
  {
   "cell_type": "markdown",
   "metadata": {},
   "source": [
    "# Implementing Models"
   ]
  },
  {
   "cell_type": "markdown",
   "metadata": {},
   "source": [
    "# 1. Decision Tree"
   ]
  },
  {
   "cell_type": "code",
   "execution_count": 8,
   "metadata": {},
   "outputs": [
    {
     "name": "stdout",
     "output_type": "stream",
     "text": [
      "{'criterion': 'entropy', 'max_depth': 25}\n",
      "0.956448694753\n"
     ]
    }
   ],
   "source": [
    "#Creating decision tree\n",
    "dtree = DecisionTreeClassifier(random_state=20)\n",
    "par_grid_tree = {'criterion': ['gini','entropy'],'max_depth': [5,10,15,20,25,30,50]} \n",
    "train_score,test_score,time,params = getParametersFromGridSearchCV(X_train, y_train,dtree,par_grid_tree)  "
   ]
  },
  {
   "cell_type": "code",
   "execution_count": 9,
   "metadata": {},
   "outputs": [
    {
     "name": "stdout",
     "output_type": "stream",
     "text": [
      "Train_score = [ 0.92146981  0.96306819  0.98617212  0.99063783  0.99102553  0.99102553\n",
      "  0.99102553  0.92066568  0.95659225  0.98233821  0.98953217  0.99095373\n",
      "  0.99102553  0.99102553] \n",
      " \n",
      " Test_score = [ 0.91910054  0.94675627  0.95541484  0.95476867  0.95554407  0.95554407\n",
      "  0.95554407  0.91664513  0.94391316  0.95347635  0.95489791  0.95644869\n",
      "  0.95631946  0.95631946] \n",
      " \n",
      " Fit_time = [ 0.02713685  0.03597453  0.02513263  0.02344072  0.02636395  0.02191055\n",
      "  0.02193735  0.0129009   0.0187793   0.0170548   0.0190485   0.01742074\n",
      "  0.01735353  0.01592176] \n",
      " \n",
      " Params = [{'criterion': 'gini', 'max_depth': 5}, {'criterion': 'gini', 'max_depth': 10}, {'criterion': 'gini', 'max_depth': 15}, {'criterion': 'gini', 'max_depth': 20}, {'criterion': 'gini', 'max_depth': 25}, {'criterion': 'gini', 'max_depth': 30}, {'criterion': 'gini', 'max_depth': 50}, {'criterion': 'entropy', 'max_depth': 5}, {'criterion': 'entropy', 'max_depth': 10}, {'criterion': 'entropy', 'max_depth': 15}, {'criterion': 'entropy', 'max_depth': 20}, {'criterion': 'entropy', 'max_depth': 25}, {'criterion': 'entropy', 'max_depth': 30}, {'criterion': 'entropy', 'max_depth': 50}]\n"
     ]
    }
   ],
   "source": [
    "##Printing scores, times and parameters selected\n",
    "print(\"Train_score =\", train_score,\"\\n\",\"\\n\",\"Test_score =\",test_score,\"\\n\",\"\\n\",\"Fit_time =\", time,\"\\n\",\"\\n\",\"Params =\",params)"
   ]
  },
  {
   "cell_type": "markdown",
   "metadata": {},
   "source": [
    "# Testing Accuracy and Learning Curve for DT"
   ]
  },
  {
   "cell_type": "code",
   "execution_count": 22,
   "metadata": {},
   "outputs": [
    {
     "data": {
      "text/plain": [
       "0.96110943623756406"
      ]
     },
     "execution_count": 22,
     "metadata": {},
     "output_type": "execute_result"
    }
   ],
   "source": [
    "##Testing accuracy on y_test with best parameters\n",
    "dt_clf = DecisionTreeClassifier( max_depth=25, criterion = \"entropy\", random_state=20 )\n",
    "dt_clf.fit(X_train, y_train)\n",
    "y_pred = dt_clf.predict(X_test)\n",
    "\n",
    "accuracy_score(y_test,y_pred)\n"
   ]
  },
  {
   "cell_type": "code",
   "execution_count": 14,
   "metadata": {},
   "outputs": [
    {
     "data": {
      "image/png": "[encoded data removed]",
      "text/plain": [
       "<matplotlib.figure.Figure at 0x192be883f98>"
      ]
     },
     "metadata": {},
     "output_type": "display_data"
    }
   ],
   "source": [
    "###Plotting Learning Curve for DT\n",
    "\n",
    "title = \"Learning Curves (Decision Tree - Phising Data)\"\n",
    "# Cross validation with 100 iterations to get smoother mean test and train\n",
    "# score curves, each time with 20% data randomly selected as a validation set.\n",
    "\n",
    "dt_clf = DecisionTreeClassifier( max_depth=25, criterion = \"entropy\", random_state=20 )\n",
    "\n",
    "plot_learning_curve(dt_clf, title, X_train, y_train, ylim=(0.85, 1.01), cv=10, n_jobs=4)\n",
    "plt.show()"
   ]
  },
  {
   "cell_type": "code",
   "execution_count": 10,
   "metadata": {},
   "outputs": [
    {
     "data": {
      "image/png": "[encoded data removed]",
      "text/plain": [
       "<matplotlib.figure.Figure at 0x26c793784a8>"
      ]
     },
     "metadata": {},
     "output_type": "display_data"
    }
   ],
   "source": [
    "##Plotting accuracy vs max depth for each criterion curve \n",
    "\n",
    "index_gini = range(0,7)\n",
    "index_entropy = range(7,14)\n",
    "\n",
    "train_score_gini = []\n",
    "test_score_gini = []\n",
    "for i in index_gini:\n",
    "    train_score_gini.append(train_score.tolist()[i])\n",
    "    test_score_gini.append(test_score.tolist()[i])\n",
    "\n",
    "train_score_entropy = []\n",
    "test_score_entropy = []\n",
    "for j in index_entropy:\n",
    "    train_score_entropy.append(train_score.tolist()[j])\n",
    "    test_score_entropy.append(test_score.tolist()[j])    \n",
    "    \n",
    "\n",
    "plt.figure()\n",
    "plt.grid()    \n",
    "plt.plot([5,10,15,20,25,30,50], train_score_gini, 'o-', label = \"Training set-gini\")\n",
    "plt.plot([5,10,15,20,25,30,50], test_score_gini, 'o-', label = \"CV Set-gini\")\n",
    "plt.plot([5,10,15,20,25,30,50], train_score_entropy, 'o-', label = \"Training set-entropy\")\n",
    "plt.plot([5,10,15,20,25,30,50], test_score_entropy, 'o-', label = \"CV Set-entropy\")\n",
    "\n",
    "\n",
    "#plt.xlim(0,60)\n",
    "plt.ylim(0.91,1.00)\n",
    "plt.ylabel('Accuracy')\n",
    "plt.xlabel('Max Depth')\n",
    "plt.title('Accuracy vs Max Depth for different criterion on Phising Dataset')\n",
    "plt.legend(loc =\"best\")\n",
    "plt.show()"
   ]
  },
  {
   "cell_type": "markdown",
   "metadata": {},
   "source": [
    "# 2. Gradient Boosting Classifier"
   ]
  },
  {
   "cell_type": "code",
   "execution_count": 134,
   "metadata": {},
   "outputs": [
    {
     "name": "stdout",
     "output_type": "stream",
     "text": [
      "{'max_depth': 5, 'n_estimators': 350}\n",
      "0.971051951409\n"
     ]
    }
   ],
   "source": [
    "#Creating Gradient Boosting Classifier\n",
    "GB_clf = GradientBoostingClassifier(random_state=20)\n",
    "par_grid_GB = {'n_estimators': [50,100,150,200,250,300,350,400],'max_depth': [5]} \n",
    "train_score,test_score,time,params = getParametersFromGridSearchCV(X_train, y_train,GB_clf,par_grid_GB)  "
   ]
  },
  {
   "cell_type": "code",
   "execution_count": 135,
   "metadata": {},
   "outputs": [
    {
     "name": "stdout",
     "output_type": "stream",
     "text": [
      "Train_score = [ 0.95871747  0.97459865  0.97972489  0.98436287  0.98710548  0.98841216\n",
      "  0.98930243  0.98986244] \n",
      " \n",
      " Test_score = [ 0.95102094  0.9648488   0.96769191  0.96975963  0.96988886  0.97092272\n",
      "  0.97105195  0.97066425] \n",
      " \n",
      " Fit_time = [ 0.81562581  1.69587379  2.4913702   3.34068551  4.1529989   5.15980136\n",
      "  6.04107115  7.67084317] \n",
      " \n",
      " Params = [{'max_depth': 5, 'n_estimators': 50}, {'max_depth': 5, 'n_estimators': 100}, {'max_depth': 5, 'n_estimators': 150}, {'max_depth': 5, 'n_estimators': 200}, {'max_depth': 5, 'n_estimators': 250}, {'max_depth': 5, 'n_estimators': 300}, {'max_depth': 5, 'n_estimators': 350}, {'max_depth': 5, 'n_estimators': 400}]\n"
     ]
    }
   ],
   "source": [
    "##Printing scores, times and parameters selected\n",
    "print(\"Train_score =\", train_score,\"\\n\",\"\\n\",\"Test_score =\",test_score,\"\\n\",\"\\n\",\"Fit_time =\", time,\"\\n\",\"\\n\",\"Params =\",params)"
   ]
  },
  {
   "cell_type": "code",
   "execution_count": 13,
   "metadata": {},
   "outputs": [
    {
     "name": "stdout",
     "output_type": "stream",
     "text": [
      "{'max_depth': 10, 'n_estimators': 100}\n",
      "0.97040578961\n"
     ]
    }
   ],
   "source": [
    "##Trying max_depth=10\n",
    "GB_clf = GradientBoostingClassifier(random_state=20)\n",
    "par_grid_GB = {'n_estimators': [50,100,150,200,250,300,350,400],'max_depth': [10]} \n",
    "train_score_G1,test_score_G1,time_G1,params_G1 = getParametersFromGridSearchCV(X_train, y_train,GB_clf,par_grid_GB)  "
   ]
  },
  {
   "cell_type": "code",
   "execution_count": 14,
   "metadata": {},
   "outputs": [
    {
     "name": "stdout",
     "output_type": "stream",
     "text": [
      "Train_score = [ 0.98869933  0.99102553  0.99102553  0.99102553  0.99102553  0.99102553\n",
      "  0.99102553  0.99102553] \n",
      " \n",
      " Test_score = [ 0.96691652  0.97040579  0.96820884  0.9696304   0.9692427   0.96937193\n",
      "  0.96937193  0.96911347] \n",
      " \n",
      " Fit_time = [  3.31243148   7.56958904  11.21942105  19.15718532  22.25433338\n",
      "  21.89035423  20.96933885  23.11354218] \n",
      " \n",
      " Params = [{'max_depth': 10, 'n_estimators': 50}, {'max_depth': 10, 'n_estimators': 100}, {'max_depth': 10, 'n_estimators': 150}, {'max_depth': 10, 'n_estimators': 200}, {'max_depth': 10, 'n_estimators': 250}, {'max_depth': 10, 'n_estimators': 300}, {'max_depth': 10, 'n_estimators': 350}, {'max_depth': 10, 'n_estimators': 400}]\n"
     ]
    }
   ],
   "source": [
    "##Printing scores, times and parameters selected\n",
    "print(\"Train_score =\", train_score_G1,\"\\n\",\"\\n\",\"Test_score =\",test_score_G1,\"\\n\",\"\\n\",\"Fit_time =\", time_G1,\"\\n\",\"\\n\",\"Params =\",params_G1)"
   ]
  },
  {
   "cell_type": "code",
   "execution_count": 133,
   "metadata": {},
   "outputs": [
    {
     "data": {
      "text/plain": [
       "0.97105818510702446"
      ]
     },
     "execution_count": 133,
     "metadata": {},
     "output_type": "execute_result"
    }
   ],
   "source": [
    "##Testing accuracy on y_test with best parameters\n",
    "GB_clf = GradientBoostingClassifier( max_depth=5, n_estimators= 350,random_state= 20)\n",
    "GB_clf.fit(X_train, y_train)\n",
    "y_pred = GB_clf.predict(X_test)\n",
    "\n",
    "accuracy_score(y_test,y_pred)"
   ]
  },
  {
   "cell_type": "code",
   "execution_count": 16,
   "metadata": {},
   "outputs": [
    {
     "data": {
      "image/png": "[encoded data removed]",
      "text/plain": [
       "<matplotlib.figure.Figure at 0x192be759668>"
      ]
     },
     "metadata": {},
     "output_type": "display_data"
    }
   ],
   "source": [
    "###Plotting Learning Curve for Gradient Boosting\n",
    "\n",
    "title = \"Learning Curves (Gradient Boosting - Phising Data)\"\n",
    "# Cross validation with 100 iterations to get smoother mean test and train\n",
    "# score curves, each time with 20% data randomly selected as a validation set.\n",
    "\n",
    "GB_clf = GradientBoostingClassifier( max_depth=5, n_estimators =350 , random_state=20 )\n",
    "\n",
    "plot_learning_curve(GB_clf, title, X_train, y_train, ylim=(0.85, 1.01), cv=10, n_jobs=4)\n",
    "plt.show()"
   ]
  },
  {
   "cell_type": "code",
   "execution_count": 152,
   "metadata": {},
   "outputs": [
    {
     "data": {
      "image/png": "[encoded data removed]",
      "text/plain": [
       "<matplotlib.figure.Figure at 0x23ba26fb2b0>"
      ]
     },
     "metadata": {},
     "output_type": "display_data"
    }
   ],
   "source": [
    "##Plotting Accuracy vs n_estimators graph using matplotlib\n",
    "\n",
    "plt.figure()\n",
    "#ax = fig.add_subplot(111)\n",
    "plt.grid()\n",
    "plt.plot(range(50,450,50), train_score.tolist(), 'o-', color=\"r\", label = \"Training set\")\n",
    "plt.plot(range(50,450,50), test_score.tolist(), 'o-', color=\"g\", label = \"Cross Validation Set\")\n",
    "plt.ylabel('Accuracy')\n",
    "plt.xlabel('Number of Estimators')\n",
    "plt.title('Accuracy vs Estimators for Gradient Boosting on Phishing Dataset')\n",
    "#plt.tight_layout()\n",
    "plt.legend()\n",
    "plt.show()"
   ]
  },
  {
   "cell_type": "markdown",
   "metadata": {},
   "source": [
    "# 3. SVM"
   ]
  },
  {
   "cell_type": "code",
   "execution_count": 162,
   "metadata": {},
   "outputs": [
    {
     "name": "stdout",
     "output_type": "stream",
     "text": [
      "{'C': 50, 'kernel': 'rbf'}\n",
      "0.961617989144\n"
     ]
    }
   ],
   "source": [
    "#Creating SVM Classifier\n",
    "SVM_clf = SVC(random_state=200)\n",
    "par_grid_SVM = {'kernel': ['linear','rbf', 'poly'], 'C': [1,5,10,20,50]} \n",
    "train_score3,test_score3,time3,params3 = getParametersFromGridSearchCV(X_train, y_train,SVM_clf,par_grid_SVM)"
   ]
  },
  {
   "cell_type": "code",
   "execution_count": 163,
   "metadata": {},
   "outputs": [
    {
     "name": "stdout",
     "output_type": "stream",
     "text": [
      "Train_score = [ 0.93076021  0.95041787  0.9544815   0.93061661  0.96628467  0.96802213\n",
      "  0.93055917  0.97304785  0.97322019  0.93053045  0.97731253  0.97683868\n",
      "  0.93058789  0.98103156  0.98067256] \n",
      " \n",
      " Test_score = [ 0.9296976   0.94585164  0.94817782  0.92956836  0.9556733   0.95502714\n",
      "  0.9293099   0.95903334  0.95877488  0.9293099   0.95903334  0.95799948\n",
      "  0.9293099   0.96161799  0.95787025] \n",
      " \n",
      " Fit_time = [  1.43794415   1.16742492   1.01384461   3.45834973   1.08532677\n",
      "   0.99910083   5.16450977   1.12211504   0.98580413   8.73135803\n",
      "   1.26813087   1.15193629  18.13828862   1.28474402   1.25327911] \n",
      " \n",
      " Params = [{'C': 1, 'kernel': 'linear'}, {'C': 1, 'kernel': 'rbf'}, {'C': 1, 'kernel': 'poly'}, {'C': 5, 'kernel': 'linear'}, {'C': 5, 'kernel': 'rbf'}, {'C': 5, 'kernel': 'poly'}, {'C': 10, 'kernel': 'linear'}, {'C': 10, 'kernel': 'rbf'}, {'C': 10, 'kernel': 'poly'}, {'C': 20, 'kernel': 'linear'}, {'C': 20, 'kernel': 'rbf'}, {'C': 20, 'kernel': 'poly'}, {'C': 50, 'kernel': 'linear'}, {'C': 50, 'kernel': 'rbf'}, {'C': 50, 'kernel': 'poly'}]\n"
     ]
    }
   ],
   "source": [
    "##Printing scores, times and parameters selected\n",
    "print(\"Train_score =\", train_score3,\"\\n\",\"\\n\",\"Test_score =\",test_score3,\"\\n\",\"\\n\",\"Fit_time =\", time3,\"\\n\",\"\\n\",\"Params =\",params3)"
   ]
  },
  {
   "cell_type": "code",
   "execution_count": 169,
   "metadata": {},
   "outputs": [
    {
     "data": {
      "text/plain": [
       "0.9620138679529695"
      ]
     },
     "execution_count": 169,
     "metadata": {},
     "output_type": "execute_result"
    }
   ],
   "source": [
    "##Testing accuracy on y_test with best parameters\n",
    "SVM_clf = SVC( kernel= 'rbf', C = 50 ,random_state= 200)\n",
    "SVM_clf.fit(X_train, y_train)\n",
    "y_pred = SVM_clf.predict(X_test)\n",
    "\n",
    "accuracy_score(y_test,y_pred)"
   ]
  },
  {
   "cell_type": "code",
   "execution_count": 203,
   "metadata": {},
   "outputs": [
    {
     "data": {
      "image/png": "[encoded data removed]",
      "text/plain": [
       "<matplotlib.figure.Figure at 0x23ba4b622b0>"
      ]
     },
     "metadata": {},
     "output_type": "display_data"
    }
   ],
   "source": [
    "##Plotting accuracy vs C parameter for each kernel curve for rbf kernel\n",
    "index_rbf = [1,4,7,10,13]\n",
    "index_linear = [0,3,6,9,12]\n",
    "index_poly = [2,5,8,11,14]\n",
    "\n",
    "train_score_rbf = []\n",
    "test_score_rbf = []\n",
    "for i in index_rbf:\n",
    "    train_score_rbf.append(train_score3.tolist()[i])\n",
    "    test_score_rbf.append(test_score3.tolist()[i])\n",
    "\n",
    "train_score_linear = []\n",
    "test_score_linear = []\n",
    "for j in index_linear:\n",
    "    train_score_linear.append(train_score3.tolist()[j])\n",
    "    test_score_linear.append(test_score3.tolist()[j])    \n",
    "    \n",
    "train_score_poly = []\n",
    "test_score_poly = []\n",
    "for k in index_poly:\n",
    "    train_score_poly.append(train_score3.tolist()[k])\n",
    "    test_score_poly.append(test_score3.tolist()[k])      \n",
    "    \n",
    "plt.figure()\n",
    "plt.grid()    \n",
    "plt.plot([1,5,10,20,50], train_score_rbf, 'o-', label = \"Training set-rbf\")\n",
    "plt.plot([1,5,10,20,50], test_score_rbf, 'o-', label = \"CV Set-rbf\")\n",
    "plt.plot([1,5,10,20,50], train_score_linear, 'o-', label = \"Training set-linear\")\n",
    "plt.plot([1,5,10,20,50], test_score_linear, 'o-', label = \"CV Set-linear\")\n",
    "plt.plot([1,5,10,20,50], train_score_poly, 'o-', label = \"Training set-poly\")\n",
    "plt.plot([1,5,10,20,50], test_score_poly, 'o-', label = \"CV Set-poly\")\n",
    "\n",
    "#plt.xlim(0,60)\n",
    "plt.ylim(0.92,0.99)\n",
    "plt.ylabel('Accuracy')\n",
    "plt.xlabel('C parameter')\n",
    "plt.title('Accuracy vs C for different kernels on Phishing Dataset')\n",
    "plt.legend(loc =\"best\")\n",
    "plt.show()"
   ]
  },
  {
   "cell_type": "code",
   "execution_count": 166,
   "metadata": {},
   "outputs": [
    {
     "data": {
      "image/png": "[encoded data removed]",
      "text/plain": [
       "<matplotlib.figure.Figure at 0x23ba25dd940>"
      ]
     },
     "metadata": {},
     "output_type": "display_data"
    }
   ],
   "source": [
    "###Plotting Learning Curve for SVM\n",
    "\n",
    "title = \"Learning Curves (SVM - Phising Data)\"\n",
    "# Cross validation with 100 iterations to get smoother mean test and train\n",
    "# score curves, each time with 20% data randomly selected as a validation set.\n",
    "\n",
    "SVM_clf = SVC( kernel= 'rbf', C = 50,random_state= 200)\n",
    "\n",
    "plot_learning_curve(SVM_clf, title, X_train, y_train, ylim=(0.85, 1.01), cv=10, n_jobs=4)\n",
    "plt.show()"
   ]
  },
  {
   "cell_type": "markdown",
   "metadata": {},
   "source": [
    "# 4. KNN"
   ]
  },
  {
   "cell_type": "code",
   "execution_count": 174,
   "metadata": {},
   "outputs": [
    {
     "name": "stdout",
     "output_type": "stream",
     "text": [
      "{'n_neighbors': 5}\n",
      "0.936417678987\n"
     ]
    }
   ],
   "source": [
    "#Creating KNN Classifier\n",
    "KNN_clf = KNeighborsClassifier()\n",
    "par_grid_KNN = {'n_neighbors' : range(5,65,10)} \n",
    "train_score4,test_score4,time4,params4 = getParametersFromGridSearchCV(X_train, y_train,KNN_clf,par_grid_KNN)"
   ]
  },
  {
   "cell_type": "code",
   "execution_count": 175,
   "metadata": {},
   "outputs": [
    {
     "name": "stdout",
     "output_type": "stream",
     "text": [
      "Train_score = [ 0.96158926  0.93953363  0.92943914  0.92694064  0.92319292  0.91917234] \n",
      " \n",
      " Test_score = [ 0.93641768  0.92840527  0.92194365  0.92258982  0.91948824  0.9157405 ] \n",
      " \n",
      " Fit_time = [ 0.07645829  0.08444681  0.07483392  0.08275874  0.07108984  0.07045393] \n",
      " \n",
      " Params = [{'n_neighbors': 5}, {'n_neighbors': 15}, {'n_neighbors': 25}, {'n_neighbors': 35}, {'n_neighbors': 45}, {'n_neighbors': 55}]\n"
     ]
    }
   ],
   "source": [
    "##Printing scores, times and parameters selected\n",
    "print(\"Train_score =\", train_score4,\"\\n\",\"\\n\",\"Test_score =\",test_score4,\"\\n\",\"\\n\",\"Fit_time =\", time4,\"\\n\",\"\\n\",\"Params =\",params4)"
   ]
  },
  {
   "cell_type": "code",
   "execution_count": 24,
   "metadata": {},
   "outputs": [
    {
     "data": {
      "text/plain": [
       "0.93729273439855287"
      ]
     },
     "execution_count": 24,
     "metadata": {},
     "output_type": "execute_result"
    }
   ],
   "source": [
    "##Testing accuracy on y_test with best parameters\n",
    "KNN_clf = KNeighborsClassifier(n_neighbors=5)\n",
    "KNN_clf.fit(X_train, y_train)\n",
    "y_pred = KNN_clf.predict(X_test)\n",
    "\n",
    "accuracy_score(y_test,y_pred)"
   ]
  },
  {
   "cell_type": "code",
   "execution_count": 180,
   "metadata": {},
   "outputs": [
    {
     "data": {
      "image/png": "[encoded data removed]",
      "text/plain": [
       "<matplotlib.figure.Figure at 0x23ba2431da0>"
      ]
     },
     "metadata": {},
     "output_type": "display_data"
    }
   ],
   "source": [
    "###Plotting Learning Curve for KNN\n",
    "\n",
    "title = \"Learning Curves (KNN - Phising Data)\"\n",
    "# Cross validation with 100 iterations to get smoother mean test and train\n",
    "# score curves, each time with 20% data randomly selected as a validation set.\n",
    "\n",
    "KNN_clf = KNeighborsClassifier(n_neighbors=5)\n",
    "\n",
    "plot_learning_curve(KNN_clf, title, X_train, y_train, ylim=(0.85, 1.01), cv=10, n_jobs=4)\n",
    "plt.show()"
   ]
  },
  {
   "cell_type": "code",
   "execution_count": 181,
   "metadata": {},
   "outputs": [
    {
     "data": {
      "image/png": "[encoded data removed]",
      "text/plain": [
       "<matplotlib.figure.Figure at 0x23ba2532668>"
      ]
     },
     "metadata": {},
     "output_type": "display_data"
    }
   ],
   "source": [
    "##Accuracy vs k graph\n",
    "\n",
    "plt.figure()\n",
    "plt.grid()\n",
    "plt.plot(range(5,65,10), train_score4.tolist(), 'o-', color=\"r\", label = \"Training set\")\n",
    "plt.plot(range(5,65,10), test_score4.tolist(), 'o-', color=\"g\", label = \"Cross Validation Set\")\n",
    "plt.ylabel('Accuracy')\n",
    "plt.xlabel('K')\n",
    "plt.title('Accuracy vs K for KNN Classifier on Phishing Dataset')\n",
    "plt.legend()\n",
    "plt.show()"
   ]
  },
  {
   "cell_type": "markdown",
   "metadata": {},
   "source": [
    "# 5. Neural Network"
   ]
  },
  {
   "cell_type": "code",
   "execution_count": 244,
   "metadata": {},
   "outputs": [
    {
     "name": "stderr",
     "output_type": "stream",
     "text": [
      "C:\\Users\\kunal\\Anaconda3\\lib\\site-packages\\sklearn\\neural_network\\multilayer_perceptron.py:564: ConvergenceWarning: Stochastic Optimizer: Maximum iterations (50) reached and the optimization hasn't converged yet.\n",
      "  % self.max_iter, ConvergenceWarning)\n",
      "C:\\Users\\kunal\\Anaconda3\\lib\\site-packages\\sklearn\\neural_network\\multilayer_perceptron.py:564: ConvergenceWarning: Stochastic Optimizer: Maximum iterations (50) reached and the optimization hasn't converged yet.\n",
      "  % self.max_iter, ConvergenceWarning)\n",
      "C:\\Users\\kunal\\Anaconda3\\lib\\site-packages\\sklearn\\neural_network\\multilayer_perceptron.py:564: ConvergenceWarning: Stochastic Optimizer: Maximum iterations (50) reached and the optimization hasn't converged yet.\n",
      "  % self.max_iter, ConvergenceWarning)\n",
      "C:\\Users\\kunal\\Anaconda3\\lib\\site-packages\\sklearn\\neural_network\\multilayer_perceptron.py:564: ConvergenceWarning: Stochastic Optimizer: Maximum iterations (50) reached and the optimization hasn't converged yet.\n",
      "  % self.max_iter, ConvergenceWarning)\n",
      "C:\\Users\\kunal\\Anaconda3\\lib\\site-packages\\sklearn\\neural_network\\multilayer_perceptron.py:564: ConvergenceWarning: Stochastic Optimizer: Maximum iterations (50) reached and the optimization hasn't converged yet.\n",
      "  % self.max_iter, ConvergenceWarning)\n",
      "C:\\Users\\kunal\\Anaconda3\\lib\\site-packages\\sklearn\\neural_network\\multilayer_perceptron.py:564: ConvergenceWarning: Stochastic Optimizer: Maximum iterations (50) reached and the optimization hasn't converged yet.\n",
      "  % self.max_iter, ConvergenceWarning)\n",
      "C:\\Users\\kunal\\Anaconda3\\lib\\site-packages\\sklearn\\neural_network\\multilayer_perceptron.py:564: ConvergenceWarning: Stochastic Optimizer: Maximum iterations (50) reached and the optimization hasn't converged yet.\n",
      "  % self.max_iter, ConvergenceWarning)\n",
      "C:\\Users\\kunal\\Anaconda3\\lib\\site-packages\\sklearn\\neural_network\\multilayer_perceptron.py:564: ConvergenceWarning: Stochastic Optimizer: Maximum iterations (50) reached and the optimization hasn't converged yet.\n",
      "  % self.max_iter, ConvergenceWarning)\n",
      "C:\\Users\\kunal\\Anaconda3\\lib\\site-packages\\sklearn\\neural_network\\multilayer_perceptron.py:564: ConvergenceWarning: Stochastic Optimizer: Maximum iterations (50) reached and the optimization hasn't converged yet.\n",
      "  % self.max_iter, ConvergenceWarning)\n",
      "C:\\Users\\kunal\\Anaconda3\\lib\\site-packages\\sklearn\\neural_network\\multilayer_perceptron.py:564: ConvergenceWarning: Stochastic Optimizer: Maximum iterations (50) reached and the optimization hasn't converged yet.\n",
      "  % self.max_iter, ConvergenceWarning)\n",
      "C:\\Users\\kunal\\Anaconda3\\lib\\site-packages\\sklearn\\neural_network\\multilayer_perceptron.py:564: ConvergenceWarning: Stochastic Optimizer: Maximum iterations (100) reached and the optimization hasn't converged yet.\n",
      "  % self.max_iter, ConvergenceWarning)\n",
      "C:\\Users\\kunal\\Anaconda3\\lib\\site-packages\\sklearn\\neural_network\\multilayer_perceptron.py:564: ConvergenceWarning: Stochastic Optimizer: Maximum iterations (100) reached and the optimization hasn't converged yet.\n",
      "  % self.max_iter, ConvergenceWarning)\n",
      "C:\\Users\\kunal\\Anaconda3\\lib\\site-packages\\sklearn\\neural_network\\multilayer_perceptron.py:564: ConvergenceWarning: Stochastic Optimizer: Maximum iterations (100) reached and the optimization hasn't converged yet.\n",
      "  % self.max_iter, ConvergenceWarning)\n",
      "C:\\Users\\kunal\\Anaconda3\\lib\\site-packages\\sklearn\\neural_network\\multilayer_perceptron.py:564: ConvergenceWarning: Stochastic Optimizer: Maximum iterations (100) reached and the optimization hasn't converged yet.\n",
      "  % self.max_iter, ConvergenceWarning)\n",
      "C:\\Users\\kunal\\Anaconda3\\lib\\site-packages\\sklearn\\neural_network\\multilayer_perceptron.py:564: ConvergenceWarning: Stochastic Optimizer: Maximum iterations (100) reached and the optimization hasn't converged yet.\n",
      "  % self.max_iter, ConvergenceWarning)\n",
      "C:\\Users\\kunal\\Anaconda3\\lib\\site-packages\\sklearn\\neural_network\\multilayer_perceptron.py:564: ConvergenceWarning: Stochastic Optimizer: Maximum iterations (50) reached and the optimization hasn't converged yet.\n",
      "  % self.max_iter, ConvergenceWarning)\n",
      "C:\\Users\\kunal\\Anaconda3\\lib\\site-packages\\sklearn\\neural_network\\multilayer_perceptron.py:564: ConvergenceWarning: Stochastic Optimizer: Maximum iterations (50) reached and the optimization hasn't converged yet.\n",
      "  % self.max_iter, ConvergenceWarning)\n",
      "C:\\Users\\kunal\\Anaconda3\\lib\\site-packages\\sklearn\\neural_network\\multilayer_perceptron.py:564: ConvergenceWarning: Stochastic Optimizer: Maximum iterations (50) reached and the optimization hasn't converged yet.\n",
      "  % self.max_iter, ConvergenceWarning)\n",
      "C:\\Users\\kunal\\Anaconda3\\lib\\site-packages\\sklearn\\neural_network\\multilayer_perceptron.py:564: ConvergenceWarning: Stochastic Optimizer: Maximum iterations (50) reached and the optimization hasn't converged yet.\n",
      "  % self.max_iter, ConvergenceWarning)\n",
      "C:\\Users\\kunal\\Anaconda3\\lib\\site-packages\\sklearn\\neural_network\\multilayer_perceptron.py:564: ConvergenceWarning: Stochastic Optimizer: Maximum iterations (50) reached and the optimization hasn't converged yet.\n",
      "  % self.max_iter, ConvergenceWarning)\n",
      "C:\\Users\\kunal\\Anaconda3\\lib\\site-packages\\sklearn\\neural_network\\multilayer_perceptron.py:564: ConvergenceWarning: Stochastic Optimizer: Maximum iterations (50) reached and the optimization hasn't converged yet.\n",
      "  % self.max_iter, ConvergenceWarning)\n",
      "C:\\Users\\kunal\\Anaconda3\\lib\\site-packages\\sklearn\\neural_network\\multilayer_perceptron.py:564: ConvergenceWarning: Stochastic Optimizer: Maximum iterations (50) reached and the optimization hasn't converged yet.\n",
      "  % self.max_iter, ConvergenceWarning)\n",
      "C:\\Users\\kunal\\Anaconda3\\lib\\site-packages\\sklearn\\neural_network\\multilayer_perceptron.py:564: ConvergenceWarning: Stochastic Optimizer: Maximum iterations (50) reached and the optimization hasn't converged yet.\n",
      "  % self.max_iter, ConvergenceWarning)\n",
      "C:\\Users\\kunal\\Anaconda3\\lib\\site-packages\\sklearn\\neural_network\\multilayer_perceptron.py:564: ConvergenceWarning: Stochastic Optimizer: Maximum iterations (50) reached and the optimization hasn't converged yet.\n",
      "  % self.max_iter, ConvergenceWarning)\n",
      "C:\\Users\\kunal\\Anaconda3\\lib\\site-packages\\sklearn\\neural_network\\multilayer_perceptron.py:564: ConvergenceWarning: Stochastic Optimizer: Maximum iterations (50) reached and the optimization hasn't converged yet.\n",
      "  % self.max_iter, ConvergenceWarning)\n",
      "C:\\Users\\kunal\\Anaconda3\\lib\\site-packages\\sklearn\\neural_network\\multilayer_perceptron.py:564: ConvergenceWarning: Stochastic Optimizer: Maximum iterations (100) reached and the optimization hasn't converged yet.\n",
      "  % self.max_iter, ConvergenceWarning)\n",
      "C:\\Users\\kunal\\Anaconda3\\lib\\site-packages\\sklearn\\neural_network\\multilayer_perceptron.py:564: ConvergenceWarning: Stochastic Optimizer: Maximum iterations (100) reached and the optimization hasn't converged yet.\n",
      "  % self.max_iter, ConvergenceWarning)\n",
      "C:\\Users\\kunal\\Anaconda3\\lib\\site-packages\\sklearn\\neural_network\\multilayer_perceptron.py:564: ConvergenceWarning: Stochastic Optimizer: Maximum iterations (100) reached and the optimization hasn't converged yet.\n",
      "  % self.max_iter, ConvergenceWarning)\n",
      "C:\\Users\\kunal\\Anaconda3\\lib\\site-packages\\sklearn\\neural_network\\multilayer_perceptron.py:564: ConvergenceWarning: Stochastic Optimizer: Maximum iterations (100) reached and the optimization hasn't converged yet.\n",
      "  % self.max_iter, ConvergenceWarning)\n",
      "C:\\Users\\kunal\\Anaconda3\\lib\\site-packages\\sklearn\\neural_network\\multilayer_perceptron.py:564: ConvergenceWarning: Stochastic Optimizer: Maximum iterations (50) reached and the optimization hasn't converged yet.\n",
      "  % self.max_iter, ConvergenceWarning)\n",
      "C:\\Users\\kunal\\Anaconda3\\lib\\site-packages\\sklearn\\neural_network\\multilayer_perceptron.py:564: ConvergenceWarning: Stochastic Optimizer: Maximum iterations (50) reached and the optimization hasn't converged yet.\n",
      "  % self.max_iter, ConvergenceWarning)\n",
      "C:\\Users\\kunal\\Anaconda3\\lib\\site-packages\\sklearn\\neural_network\\multilayer_perceptron.py:564: ConvergenceWarning: Stochastic Optimizer: Maximum iterations (50) reached and the optimization hasn't converged yet.\n",
      "  % self.max_iter, ConvergenceWarning)\n",
      "C:\\Users\\kunal\\Anaconda3\\lib\\site-packages\\sklearn\\neural_network\\multilayer_perceptron.py:564: ConvergenceWarning: Stochastic Optimizer: Maximum iterations (50) reached and the optimization hasn't converged yet.\n",
      "  % self.max_iter, ConvergenceWarning)\n"
     ]
    },
    {
     "name": "stderr",
     "output_type": "stream",
     "text": [
      "C:\\Users\\kunal\\Anaconda3\\lib\\site-packages\\sklearn\\neural_network\\multilayer_perceptron.py:564: ConvergenceWarning: Stochastic Optimizer: Maximum iterations (50) reached and the optimization hasn't converged yet.\n",
      "  % self.max_iter, ConvergenceWarning)\n",
      "C:\\Users\\kunal\\Anaconda3\\lib\\site-packages\\sklearn\\neural_network\\multilayer_perceptron.py:564: ConvergenceWarning: Stochastic Optimizer: Maximum iterations (50) reached and the optimization hasn't converged yet.\n",
      "  % self.max_iter, ConvergenceWarning)\n",
      "C:\\Users\\kunal\\Anaconda3\\lib\\site-packages\\sklearn\\neural_network\\multilayer_perceptron.py:564: ConvergenceWarning: Stochastic Optimizer: Maximum iterations (50) reached and the optimization hasn't converged yet.\n",
      "  % self.max_iter, ConvergenceWarning)\n",
      "C:\\Users\\kunal\\Anaconda3\\lib\\site-packages\\sklearn\\neural_network\\multilayer_perceptron.py:564: ConvergenceWarning: Stochastic Optimizer: Maximum iterations (50) reached and the optimization hasn't converged yet.\n",
      "  % self.max_iter, ConvergenceWarning)\n",
      "C:\\Users\\kunal\\Anaconda3\\lib\\site-packages\\sklearn\\neural_network\\multilayer_perceptron.py:564: ConvergenceWarning: Stochastic Optimizer: Maximum iterations (50) reached and the optimization hasn't converged yet.\n",
      "  % self.max_iter, ConvergenceWarning)\n",
      "C:\\Users\\kunal\\Anaconda3\\lib\\site-packages\\sklearn\\neural_network\\multilayer_perceptron.py:564: ConvergenceWarning: Stochastic Optimizer: Maximum iterations (50) reached and the optimization hasn't converged yet.\n",
      "  % self.max_iter, ConvergenceWarning)\n",
      "C:\\Users\\kunal\\Anaconda3\\lib\\site-packages\\sklearn\\neural_network\\multilayer_perceptron.py:564: ConvergenceWarning: Stochastic Optimizer: Maximum iterations (100) reached and the optimization hasn't converged yet.\n",
      "  % self.max_iter, ConvergenceWarning)\n",
      "C:\\Users\\kunal\\Anaconda3\\lib\\site-packages\\sklearn\\neural_network\\multilayer_perceptron.py:564: ConvergenceWarning: Stochastic Optimizer: Maximum iterations (50) reached and the optimization hasn't converged yet.\n",
      "  % self.max_iter, ConvergenceWarning)\n",
      "C:\\Users\\kunal\\Anaconda3\\lib\\site-packages\\sklearn\\neural_network\\multilayer_perceptron.py:564: ConvergenceWarning: Stochastic Optimizer: Maximum iterations (50) reached and the optimization hasn't converged yet.\n",
      "  % self.max_iter, ConvergenceWarning)\n",
      "C:\\Users\\kunal\\Anaconda3\\lib\\site-packages\\sklearn\\neural_network\\multilayer_perceptron.py:564: ConvergenceWarning: Stochastic Optimizer: Maximum iterations (50) reached and the optimization hasn't converged yet.\n",
      "  % self.max_iter, ConvergenceWarning)\n",
      "C:\\Users\\kunal\\Anaconda3\\lib\\site-packages\\sklearn\\neural_network\\multilayer_perceptron.py:564: ConvergenceWarning: Stochastic Optimizer: Maximum iterations (50) reached and the optimization hasn't converged yet.\n",
      "  % self.max_iter, ConvergenceWarning)\n",
      "C:\\Users\\kunal\\Anaconda3\\lib\\site-packages\\sklearn\\neural_network\\multilayer_perceptron.py:564: ConvergenceWarning: Stochastic Optimizer: Maximum iterations (50) reached and the optimization hasn't converged yet.\n",
      "  % self.max_iter, ConvergenceWarning)\n",
      "C:\\Users\\kunal\\Anaconda3\\lib\\site-packages\\sklearn\\neural_network\\multilayer_perceptron.py:564: ConvergenceWarning: Stochastic Optimizer: Maximum iterations (50) reached and the optimization hasn't converged yet.\n",
      "  % self.max_iter, ConvergenceWarning)\n",
      "C:\\Users\\kunal\\Anaconda3\\lib\\site-packages\\sklearn\\neural_network\\multilayer_perceptron.py:564: ConvergenceWarning: Stochastic Optimizer: Maximum iterations (50) reached and the optimization hasn't converged yet.\n",
      "  % self.max_iter, ConvergenceWarning)\n",
      "C:\\Users\\kunal\\Anaconda3\\lib\\site-packages\\sklearn\\neural_network\\multilayer_perceptron.py:564: ConvergenceWarning: Stochastic Optimizer: Maximum iterations (50) reached and the optimization hasn't converged yet.\n",
      "  % self.max_iter, ConvergenceWarning)\n",
      "C:\\Users\\kunal\\Anaconda3\\lib\\site-packages\\sklearn\\neural_network\\multilayer_perceptron.py:564: ConvergenceWarning: Stochastic Optimizer: Maximum iterations (50) reached and the optimization hasn't converged yet.\n",
      "  % self.max_iter, ConvergenceWarning)\n",
      "C:\\Users\\kunal\\Anaconda3\\lib\\site-packages\\sklearn\\neural_network\\multilayer_perceptron.py:564: ConvergenceWarning: Stochastic Optimizer: Maximum iterations (50) reached and the optimization hasn't converged yet.\n",
      "  % self.max_iter, ConvergenceWarning)\n",
      "C:\\Users\\kunal\\Anaconda3\\lib\\site-packages\\sklearn\\neural_network\\multilayer_perceptron.py:564: ConvergenceWarning: Stochastic Optimizer: Maximum iterations (100) reached and the optimization hasn't converged yet.\n",
      "  % self.max_iter, ConvergenceWarning)\n",
      "C:\\Users\\kunal\\Anaconda3\\lib\\site-packages\\sklearn\\neural_network\\multilayer_perceptron.py:564: ConvergenceWarning: Stochastic Optimizer: Maximum iterations (100) reached and the optimization hasn't converged yet.\n",
      "  % self.max_iter, ConvergenceWarning)\n",
      "C:\\Users\\kunal\\Anaconda3\\lib\\site-packages\\sklearn\\neural_network\\multilayer_perceptron.py:564: ConvergenceWarning: Stochastic Optimizer: Maximum iterations (100) reached and the optimization hasn't converged yet.\n",
      "  % self.max_iter, ConvergenceWarning)\n",
      "C:\\Users\\kunal\\Anaconda3\\lib\\site-packages\\sklearn\\neural_network\\multilayer_perceptron.py:564: ConvergenceWarning: Stochastic Optimizer: Maximum iterations (100) reached and the optimization hasn't converged yet.\n",
      "  % self.max_iter, ConvergenceWarning)\n",
      "C:\\Users\\kunal\\Anaconda3\\lib\\site-packages\\sklearn\\neural_network\\multilayer_perceptron.py:564: ConvergenceWarning: Stochastic Optimizer: Maximum iterations (100) reached and the optimization hasn't converged yet.\n",
      "  % self.max_iter, ConvergenceWarning)\n"
     ]
    },
    {
     "name": "stdout",
     "output_type": "stream",
     "text": [
      "{'hidden_layer_sizes': (100, 5), 'max_iter': 150}\n",
      "0.960454897906\n"
     ]
    }
   ],
   "source": [
    "#Creating Multi Layer Perceptron\n",
    "MLP_clf = MLPClassifier(random_state =500, activation = 'tanh')\n",
    "par_grid_MLP = {'max_iter' : range(50,450,50), 'hidden_layer_sizes' : [(100,2),(100,3),(100,4),(100,5)]} \n",
    "train_score_iter,test_score_iter,time_iter,params_iter = getParametersFromGridSearchCV(X_train, y_train,MLP_clf,par_grid_MLP)"
   ]
  },
  {
   "cell_type": "code",
   "execution_count": 245,
   "metadata": {},
   "outputs": [
    {
     "name": "stdout",
     "output_type": "stream",
     "text": [
      "Train_score = [ 0.95934924  0.97459861  0.974929    0.974929    0.974929    0.974929\n",
      "  0.974929    0.974929    0.95779847  0.97454118  0.97515864  0.97515864\n",
      "  0.97515864  0.97515864  0.97515864  0.97515864  0.95838713  0.97146848\n",
      "  0.97146848  0.97146848  0.97146848  0.97146848  0.97146848  0.97146848\n",
      "  0.95967946  0.97533101  0.97596281  0.97596281  0.97596281  0.97596281\n",
      "  0.97596281  0.97596281] \n",
      " \n",
      " Test_score = [ 0.94921168  0.9600672   0.95916257  0.95916257  0.95916257  0.95916257\n",
      "  0.95916257  0.95916257  0.94921168  0.95722409  0.95735332  0.95735332\n",
      "  0.95735332  0.95735332  0.95735332  0.95735332  0.94675627  0.95851641\n",
      "  0.95877488  0.95877488  0.95877488  0.95877488  0.95877488  0.95877488\n",
      "  0.94947015  0.96019643  0.9604549   0.9604549   0.9604549   0.9604549\n",
      "  0.9604549   0.9604549 ] \n",
      " \n",
      " Fit_time = [ 1.61798382  3.1350322   3.42302032  3.59149952  3.40259264  3.44188545\n",
      "  3.40827169  3.41903636  1.62333946  3.22915032  3.37007568  3.42086585\n",
      "  3.44892261  3.36988297  3.38121092  3.45822718  1.63917463  2.88244324\n",
      "  2.91089504  3.61203692  3.56762526  3.43484452  3.48727038  3.59194524\n",
      "  2.21561027  3.59754436  3.82867403  3.80149851  3.73744802  3.82805784\n",
      "  3.72181931  3.85278587] \n",
      " \n",
      " Params = [{'hidden_layer_sizes': (100, 2), 'max_iter': 50}, {'hidden_layer_sizes': (100, 2), 'max_iter': 100}, {'hidden_layer_sizes': (100, 2), 'max_iter': 150}, {'hidden_layer_sizes': (100, 2), 'max_iter': 200}, {'hidden_layer_sizes': (100, 2), 'max_iter': 250}, {'hidden_layer_sizes': (100, 2), 'max_iter': 300}, {'hidden_layer_sizes': (100, 2), 'max_iter': 350}, {'hidden_layer_sizes': (100, 2), 'max_iter': 400}, {'hidden_layer_sizes': (100, 3), 'max_iter': 50}, {'hidden_layer_sizes': (100, 3), 'max_iter': 100}, {'hidden_layer_sizes': (100, 3), 'max_iter': 150}, {'hidden_layer_sizes': (100, 3), 'max_iter': 200}, {'hidden_layer_sizes': (100, 3), 'max_iter': 250}, {'hidden_layer_sizes': (100, 3), 'max_iter': 300}, {'hidden_layer_sizes': (100, 3), 'max_iter': 350}, {'hidden_layer_sizes': (100, 3), 'max_iter': 400}, {'hidden_layer_sizes': (100, 4), 'max_iter': 50}, {'hidden_layer_sizes': (100, 4), 'max_iter': 100}, {'hidden_layer_sizes': (100, 4), 'max_iter': 150}, {'hidden_layer_sizes': (100, 4), 'max_iter': 200}, {'hidden_layer_sizes': (100, 4), 'max_iter': 250}, {'hidden_layer_sizes': (100, 4), 'max_iter': 300}, {'hidden_layer_sizes': (100, 4), 'max_iter': 350}, {'hidden_layer_sizes': (100, 4), 'max_iter': 400}, {'hidden_layer_sizes': (100, 5), 'max_iter': 50}, {'hidden_layer_sizes': (100, 5), 'max_iter': 100}, {'hidden_layer_sizes': (100, 5), 'max_iter': 150}, {'hidden_layer_sizes': (100, 5), 'max_iter': 200}, {'hidden_layer_sizes': (100, 5), 'max_iter': 250}, {'hidden_layer_sizes': (100, 5), 'max_iter': 300}, {'hidden_layer_sizes': (100, 5), 'max_iter': 350}, {'hidden_layer_sizes': (100, 5), 'max_iter': 400}]\n"
     ]
    }
   ],
   "source": [
    "##Printing scores, times and parameters selected\n",
    "print(\"Train_score =\", train_score_iter,\"\\n\",\"\\n\",\"Test_score =\",test_score_iter,\"\\n\",\"\\n\",\"Fit_time =\", time_iter,\"\\n\",\"\\n\",\"Params =\",\n",
    "      params_iter)"
   ]
  },
  {
   "cell_type": "code",
   "execution_count": 221,
   "metadata": {},
   "outputs": [
    {
     "name": "stdout",
     "output_type": "stream",
     "text": [
      "{'hidden_layer_sizes': (100, 7), 'max_iter': 150}\n",
      "0.960584130266\n"
     ]
    }
   ],
   "source": [
    "##Trying different parameters\n",
    "par_grid_MLP = {'max_iter' : range(150,350,50), 'hidden_layer_sizes' : [(100,5),(100,6),(100,7),(100,8)]} \n",
    "train_score_iter1,test_score_iter1,time_iter1,params_iter1 = getParametersFromGridSearchCV(X_train, y_train,MLP_clf,par_grid_MLP)\n"
   ]
  },
  {
   "cell_type": "code",
   "execution_count": 224,
   "metadata": {},
   "outputs": [
    {
     "name": "stdout",
     "output_type": "stream",
     "text": [
      "Train_score = [ 0.97596281  0.97596281  0.97596281  0.97596281  0.97501517  0.97501517\n",
      "  0.97501517  0.97501517  0.97726937  0.97726937  0.97726937  0.97726937\n",
      "  0.9763363   0.9763363   0.9763363   0.9763363 ] \n",
      " \n",
      " Test_score = [ 0.9604549   0.9604549   0.9604549   0.9604549   0.95761179  0.95761179\n",
      "  0.95761179  0.95761179  0.96058413  0.96058413  0.96058413  0.96058413\n",
      "  0.96058413  0.96058413  0.96058413  0.96058413] \n",
      " \n",
      " Fit_time = [ 3.12384458  3.15136185  3.11648571  3.11415737  3.02709141  3.04868054\n",
      "  3.04954507  3.08000908  3.31984556  3.31505904  3.53521628  3.33891518\n",
      "  3.36482425  3.37217455  3.36090081  3.3855072 ] \n",
      " \n",
      " Params = [{'hidden_layer_sizes': (100, 5), 'max_iter': 150}, {'hidden_layer_sizes': (100, 5), 'max_iter': 200}, {'hidden_layer_sizes': (100, 5), 'max_iter': 250}, {'hidden_layer_sizes': (100, 5), 'max_iter': 300}, {'hidden_layer_sizes': (100, 6), 'max_iter': 150}, {'hidden_layer_sizes': (100, 6), 'max_iter': 200}, {'hidden_layer_sizes': (100, 6), 'max_iter': 250}, {'hidden_layer_sizes': (100, 6), 'max_iter': 300}, {'hidden_layer_sizes': (100, 7), 'max_iter': 150}, {'hidden_layer_sizes': (100, 7), 'max_iter': 200}, {'hidden_layer_sizes': (100, 7), 'max_iter': 250}, {'hidden_layer_sizes': (100, 7), 'max_iter': 300}, {'hidden_layer_sizes': (100, 8), 'max_iter': 150}, {'hidden_layer_sizes': (100, 8), 'max_iter': 200}, {'hidden_layer_sizes': (100, 8), 'max_iter': 250}, {'hidden_layer_sizes': (100, 8), 'max_iter': 300}]\n"
     ]
    }
   ],
   "source": [
    "##Printing scores, times and parameters selected\n",
    "print(\"Train_score =\", train_score_iter1,\"\\n\",\"\\n\",\"Test_score =\",test_score_iter1,\"\\n\",\"\\n\",\"Fit_time =\", time_iter1,\"\\n\",\"\\n\",\"Params =\",\n",
    "      params_iter1)"
   ]
  },
  {
   "cell_type": "code",
   "execution_count": 8,
   "metadata": {},
   "outputs": [
    {
     "data": {
      "text/plain": [
       "0.96563159481459149"
      ]
     },
     "execution_count": 8,
     "metadata": {},
     "output_type": "execute_result"
    }
   ],
   "source": [
    "##Testing accuracy on y_test with best parameters\n",
    "MLP_clf = MLPClassifier(random_state =500, activation = 'tanh', hidden_layer_sizes = (100,5), max_iter = 150, solver = 'adam')\n",
    "MLP_clf.fit(X_train, y_train)\n",
    "y_pred = MLP_clf.predict(X_test)\n",
    "\n",
    "accuracy_score(y_test,y_pred)"
   ]
  },
  {
   "cell_type": "code",
   "execution_count": 240,
   "metadata": {},
   "outputs": [
    {
     "data": {
      "image/png": "[encoded data removed]",
      "text/plain": [
       "<matplotlib.figure.Figure at 0x23ba2a47358>"
      ]
     },
     "metadata": {},
     "output_type": "display_data"
    }
   ],
   "source": [
    "###Plotting Learning Curve for Neural Network\n",
    "\n",
    "title = \"Learning Curves (Neural Network - Phising Data)\"\n",
    "# Cross validation with 100 iterations to get smoother mean test and train\n",
    "# score curves, each time with 20% data randomly selected as a validation set.\n",
    "\n",
    "MLP_clf =MLPClassifier(random_state =500, activation = 'tanh', hidden_layer_sizes = (100,5), max_iter = 150)\n",
    "\n",
    "plot_learning_curve(MLP_clf, title, X_train, y_train, ylim=(0.85, 1.01), cv=10, n_jobs=4)\n",
    "plt.show()"
   ]
  },
  {
   "cell_type": "code",
   "execution_count": 246,
   "metadata": {},
   "outputs": [
    {
     "data": {
      "image/png": "[encoded data removed]",
      "text/plain": [
       "<matplotlib.figure.Figure at 0x23ba2a2c9e8>"
      ]
     },
     "metadata": {},
     "output_type": "display_data"
    }
   ],
   "source": [
    "##Plotting accuracy vs iterations\n",
    "\n",
    "##Plotting accuracy vs max_iter parameter for each kernel curve for rbf kernel\n",
    "index_layer2 = range(0,8)\n",
    "index_layer3 = range(8,16)\n",
    "index_layer4 = range(16,24)\n",
    "index_layer5 = range(24,32)\n",
    "\n",
    "train_score_layer2 = []\n",
    "test_score_layer2 = []\n",
    "for i in index_layer2:\n",
    "    train_score_layer2.append(train_score_iter.tolist()[i])\n",
    "    test_score_layer2.append(test_score_iter.tolist()[i])\n",
    "\n",
    "train_score_layer3 = []\n",
    "test_score_layer3 = []\n",
    "for j in index_layer3:\n",
    "    train_score_layer3.append(train_score_iter.tolist()[j])\n",
    "    test_score_layer3.append(test_score_iter.tolist()[j])    \n",
    "    \n",
    "train_score_layer4 = []\n",
    "test_score_layer4 = []\n",
    "for k in index_layer4:\n",
    "    train_score_layer4.append(train_score_iter.tolist()[k])\n",
    "    test_score_layer4.append(test_score_iter.tolist()[k])      \n",
    "\n",
    "train_score_layer5 = []\n",
    "test_score_layer5 = []\n",
    "for m in index_layer5:\n",
    "    train_score_layer5.append(train_score_iter.tolist()[m])\n",
    "    test_score_layer5.append(test_score_iter.tolist()[m])     \n",
    "    \n",
    "plt.figure()\n",
    "plt.grid()    \n",
    "plt.plot(range(50,450,50), train_score_layer2, 'o-', label = \"Training set-2layer\")\n",
    "plt.plot(range(50,450,50), test_score_layer2, 'o-', label = \"CV Set-2layer\")\n",
    "plt.plot(range(50,450,50), train_score_layer3, 'o-', label = \"Training set-3layer\")\n",
    "plt.plot(range(50,450,50), test_score_layer3, 'o-', label = \"CV Set-3layer\")\n",
    "plt.plot(range(50,450,50), train_score_layer4, 'o-', label = \"Training set-4layer\")\n",
    "plt.plot(range(50,450,50), test_score_layer4, 'o-', label = \"CV Set-4layer\")\n",
    "plt.plot(range(50,450,50), train_score_layer5, 'o-', label = \"Training set-5layer\")\n",
    "plt.plot(range(50,450,50), test_score_layer5, 'o-', label = \"CV Set-5layer\")\n",
    "\n",
    "#plt.xlim(0,60)\n",
    "plt.ylim(0.92,0.99)\n",
    "plt.ylabel('Accuracy')\n",
    "plt.xlabel('max_iter parameter')\n",
    "plt.title('Accuracy vs max_iter for different number of layers on Phishing Dataset')\n",
    "plt.legend(loc =\"best\")\n",
    "plt.show()\n"
   ]
  }
 ],
 "metadata": {
  "kernelspec": {
   "display_name": "Python 3",
   "language": "python",
   "name": "python3"
  },
  "language_info": {
   "codemirror_mode": {
    "name": "ipython",
    "version": 3
   },
   "file_extension": ".py",
   "mimetype": "text/x-python",
   "name": "python",
   "nbconvert_exporter": "python",
   "pygments_lexer": "ipython3",
   "version": "3.6.3"
  }
 },
 "nbformat": 4,
 "nbformat_minor": 2
}
